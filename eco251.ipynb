{
 "cells": [
  {
   "cell_type": "code",
   "execution_count": 31,
   "metadata": {},
   "outputs": [],
   "source": [
    "# Pranav Kumar Anupam \n",
    "# M.Sc. Economics \n",
    "# 231270017\n",
    "import numpy as np \n",
    "\n",
    "p=np.array([1/18,5/18,7/18,5/18])\n",
    "x=np.array([1,2,3,4])\n"
   ]
  },
  {
   "cell_type": "code",
   "execution_count": 32,
   "metadata": {},
   "outputs": [
    {
     "name": "stdout",
     "output_type": "stream",
     "text": [
      "Theoretical Mean is,  2.8888888888888893\n",
      "Theoretical Variance is,  0.7654320987654302\n"
     ]
    }
   ],
   "source": [
    "mean=np.sum(x*p)\n",
    "var=np.sum(x*x*p)-mean*mean\n",
    "print(\"Theoretical Mean is, \", mean)\n",
    "print(\"Theoretical Variance is, \",var)"
   ]
  },
  {
   "cell_type": "code",
   "execution_count": 33,
   "metadata": {},
   "outputs": [],
   "source": [
    "u=np.random.rand(1000000)\n",
    "X=np.zeros(1000000)\n",
    "X[u<=1/18] =1\n",
    "X[(u>1/18) & (u<6/18)] =2 \n",
    "X[(u>6/18) & (u<13/18)] =3 \n",
    "X[(u>13/18)] =4"
   ]
  },
  {
   "cell_type": "code",
   "execution_count": 34,
   "metadata": {},
   "outputs": [
    {
     "name": "stdout",
     "output_type": "stream",
     "text": [
      "Sample Mean,  2.889061\n",
      "Simple Varinace, 0.7667555382790003\n"
     ]
    }
   ],
   "source": [
    "print(\"Sample Mean, \",np.mean(X))\n",
    "print(\"Simple Varinace,\", np.var(X))"
   ]
  },
  {
   "cell_type": "markdown",
   "metadata": {},
   "source": [
    "4c) Yeah, sample mean and sample variance is very close as error is in 10^-3 "
   ]
  },
  {
   "cell_type": "code",
   "execution_count": 35,
   "metadata": {},
   "outputs": [
    {
     "name": "stdout",
     "output_type": "stream",
     "text": [
      "For random variable [1 2 3 4] \n",
      " Theoretical PDF is [0.05555556 0.27777778 0.38888889 0.27777778] \n",
      " Calculated PDF from sample [0.055668 0.277997 0.387941 0.278394]\n"
     ]
    }
   ],
   "source": [
    "p_hat=np.zeros(4)\n",
    "p_hat[0]=sum(X==1)/1000000\n",
    "p_hat[1]=sum(X==2)/1000000\n",
    "p_hat[2]=sum(X==3)/1000000\n",
    "p_hat[3]=sum(X==4)/1000000\n",
    "\n",
    "print(\"For random variable\",x,\"\\n Theoretical PDF is\", p,\"\\n Calculated PDF from sample\",p_hat)"
   ]
  },
  {
   "cell_type": "markdown",
   "metadata": {},
   "source": [
    "Calculated PDF from sample is very close and differ only in 10^-3 "
   ]
  },
  {
   "cell_type": "code",
   "execution_count": 5,
   "metadata": {},
   "outputs": [
    {
     "ename": "SyntaxError",
     "evalue": "invalid syntax. Perhaps you forgot a comma? (1810068751.py, line 6)",
     "output_type": "error",
     "traceback": [
      "\u001b[0;36m  Cell \u001b[0;32mIn [5], line 6\u001b[0;36m\u001b[0m\n\u001b[0;31m    H = np.array([[2*np.exp(x[1]) + x[1]*2*np.exp(x[0]), 2(x[0] + x[1]*np.exp(x[0]))],[2*(x[1] + x[0]np.exp(x[1])), 2*np.exp(x[0]) + x[0]*2*np.exp(x[1])]])\u001b[0m\n\u001b[0m                                                                                          ^\u001b[0m\n\u001b[0;31mSyntaxError\u001b[0m\u001b[0;31m:\u001b[0m invalid syntax. Perhaps you forgot a comma?\n"
     ]
    }
   ],
   "source": [
    "\n",
    "import numpy as np\n",
    "def f(x):\n",
    "    y = np.array(x[0]*2*np.exp(x[1]) + x[1]*2*np.exp(x[0]))\n",
    "    return y\n",
    "def H(x):\n",
    "    H = np.array([[2*np.exp(x[1]) + x[1]*2*np.exp(x[0]), 2(x[0] + x[1]*np.exp(x[0]))],[2*(x[1] + x[0]np.exp(x[1])), 2*np.exp(x[0]) + x[0]*2*np.exp(x[1])]])\n",
    "    return H\n",
    "def g(x):\n",
    "    g = np.array([2*x[0]np.exp(x[1]) + np.exp(x[0])(x[1])*2 , 2*x[1]*np.exp(x[0]) + np.exp(x[1])(x[0])])\n",
    "    return g\n",
    "\n",
    "#gradient desc with inexact\n",
    "import numpy as np\n",
    "x=np.array([1,1])\n",
    "\n",
    "c1=0.7\n",
    "while (np.linalg.norm(g(x)) >= 1e-6):\n",
    "    gk = np.array(g(x))\n",
    "    dk = -gk\n",
    "    al=0.1 \n",
    "    while not  (f(x + al*dk) <= (f(x) + c1*al*np.dot(dk,gk))):\n",
    "        al=0.4*al\n",
    "    x = x + al*dk\n",
    "    print(x)\n",
    "\n",
    "#conjugate descent inexact\n",
    "import numpy as np\n",
    "x=np.array([1,1])\n",
    "gk = np.array(g(x))\n",
    "dk = -gk\n",
    "c1,c2=0.4,0.8\n",
    "c=0\n",
    "while (np.linalg.norm(g(x)) >= 1e-6):\n",
    "    xc=np.copy(x)\n",
    "    al=0.1\n",
    "    while not (f(x + al*dk) <= (f(x) + c2*al*np.dot(dk,gk))):\n",
    "        al=c2*al\n",
    "    while not (f(x + al*dk) >= (f(x) + c1*al*np.dot(dk,gk))):\n",
    "        al=(1/c1)*al\n",
    "    x = x + al*dk   \n",
    "    gk = np.array(g(x))\n",
    "    if(c<len(x)-1):\n",
    "        dk = -gk + (np.dot(gk,gk)*dk)/np.dot(g(xc),g(xc))\n",
    "        c+=1\n",
    "    else:\n",
    "        dk = -gk\n",
    "        c+=1\n",
    "    print(x)"
   ]
  },
  {
   "cell_type": "code",
   "execution_count": 2,
   "metadata": {},
   "outputs": [
    {
     "data": {
      "text/plain": [
       "2"
      ]
     },
     "execution_count": 2,
     "metadata": {},
     "output_type": "execute_result"
    }
   ],
   "source": [
    "import numpy as np\n",
    "np.array([1,1])@np.array([1,1])"
   ]
  }
 ],
 "metadata": {
  "kernelspec": {
   "display_name": "Python 3",
   "language": "python",
   "name": "python3"
  },
  "language_info": {
   "codemirror_mode": {
    "name": "ipython",
    "version": 3
   },
   "file_extension": ".py",
   "mimetype": "text/x-python",
   "name": "python",
   "nbconvert_exporter": "python",
   "pygments_lexer": "ipython3",
   "version": "3.11.2"
  }
 },
 "nbformat": 4,
 "nbformat_minor": 2
}
