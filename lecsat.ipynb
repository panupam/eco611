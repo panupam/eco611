{
 "cells": [
  {
   "cell_type": "code",
   "execution_count": 1,
   "metadata": {},
   "outputs": [
    {
     "data": {
      "text/plain": [
       "2.0"
      ]
     },
     "execution_count": 1,
     "metadata": {},
     "output_type": "execute_result"
    }
   ],
   "source": [
    "import numpy.linalg as la \n",
    "import numpy as np\n",
    "la.norm(np.ones(4)) # Norm sqrt(x1^2+x2^2+...) also works for matrix "
   ]
  },
  {
   "cell_type": "code",
   "execution_count": 2,
   "metadata": {},
   "outputs": [
    {
     "data": {
      "text/plain": [
       "5.0"
      ]
     },
     "execution_count": 2,
     "metadata": {},
     "output_type": "execute_result"
    }
   ],
   "source": [
    "la.norm([3,4])"
   ]
  },
  {
   "cell_type": "code",
   "execution_count": 3,
   "metadata": {},
   "outputs": [
    {
     "data": {
      "text/plain": [
       "16.881943016134134"
      ]
     },
     "execution_count": 3,
     "metadata": {},
     "output_type": "execute_result"
    }
   ],
   "source": [
    "A=np.array([[1,2,3],[4,5,6],[7,8,9]])\n",
    "la.norm(A)"
   ]
  },
  {
   "cell_type": "code",
   "execution_count": 4,
   "metadata": {},
   "outputs": [
    {
     "data": {
      "text/plain": [
       "6.66133814775094e-16"
      ]
     },
     "execution_count": 4,
     "metadata": {},
     "output_type": "execute_result"
    }
   ],
   "source": [
    "la.det(A) # Determinant "
   ]
  },
  {
   "cell_type": "code",
   "execution_count": 5,
   "metadata": {},
   "outputs": [
    {
     "data": {
      "text/plain": [
       "2"
      ]
     },
     "execution_count": 5,
     "metadata": {},
     "output_type": "execute_result"
    }
   ],
   "source": [
    "la.matrix_rank(A) #Rank of matrix"
   ]
  },
  {
   "cell_type": "code",
   "execution_count": 6,
   "metadata": {},
   "outputs": [
    {
     "data": {
      "text/plain": [
       "array([[ 30,  36,  42],\n",
       "       [ 66,  81,  96],\n",
       "       [102, 126, 150]])"
      ]
     },
     "execution_count": 6,
     "metadata": {},
     "output_type": "execute_result"
    }
   ],
   "source": [
    "la.matrix_power(A,2)"
   ]
  },
  {
   "cell_type": "code",
   "execution_count": 7,
   "metadata": {},
   "outputs": [
    {
     "data": {
      "text/plain": [
       "array([ 1.61168440e+01, -1.11684397e+00, -1.30367773e-15])"
      ]
     },
     "execution_count": 7,
     "metadata": {},
     "output_type": "execute_result"
    }
   ],
   "source": [
    "eiganvalue,eiganvactor =la.eig(A) # Eigon values and eigonvactors\n",
    "la.eigvals(A) #Just eigan calues"
   ]
  },
  {
   "cell_type": "code",
   "execution_count": 8,
   "metadata": {},
   "outputs": [
    {
     "name": "stdout",
     "output_type": "stream",
     "text": [
      "Eiganvalue is [ 1.61168440e+01 -1.11684397e+00 -1.30367773e-15]\n",
      "eiganvactors  [[-0.23197069 -0.78583024  0.40824829]\n",
      " [-0.52532209 -0.08675134 -0.81649658]\n",
      " [-0.8186735   0.61232756  0.40824829]]\n"
     ]
    }
   ],
   "source": [
    "print(\"Eiganvalue is\",eiganvalue)\n",
    "print(\"eiganvactors \",eiganvactor)"
   ]
  },
  {
   "cell_type": "code",
   "execution_count": 9,
   "metadata": {},
   "outputs": [
    {
     "data": {
      "text/plain": [
       "array([[-4.50359963e+15,  9.00719925e+15, -4.50359963e+15],\n",
       "       [ 9.00719925e+15, -1.80143985e+16,  9.00719925e+15],\n",
       "       [-4.50359963e+15,  9.00719925e+15, -4.50359963e+15]])"
      ]
     },
     "execution_count": 9,
     "metadata": {},
     "output_type": "execute_result"
    }
   ],
   "source": [
    "la.inv(A) # inverse of matrix"
   ]
  },
  {
   "cell_type": "code",
   "execution_count": 10,
   "metadata": {},
   "outputs": [
    {
     "data": {
      "text/plain": [
       "array([-0.33333333,  0.66666667,  0.        ])"
      ]
     },
     "execution_count": 10,
     "metadata": {},
     "output_type": "execute_result"
    }
   ],
   "source": [
    "# solving linear eqn \n",
    "\n",
    "la.solve(A,[1,2,3])"
   ]
  },
  {
   "cell_type": "code",
   "execution_count": 11,
   "metadata": {},
   "outputs": [
    {
     "data": {
      "text/plain": [
       "(array([[-0.21483724,  0.88723069,  0.40824829],\n",
       "        [-0.52058739,  0.24964395, -0.81649658],\n",
       "        [-0.82633754, -0.38794278,  0.40824829]]),\n",
       " array([1.68481034e+01, 1.06836951e+00, 4.41842475e-16]),\n",
       " array([[-0.47967118, -0.57236779, -0.66506441],\n",
       "        [-0.77669099, -0.07568647,  0.62531805],\n",
       "        [-0.40824829,  0.81649658, -0.40824829]]))"
      ]
     },
     "execution_count": 11,
     "metadata": {},
     "output_type": "execute_result"
    }
   ],
   "source": [
    "la.svd(A)"
   ]
  },
  {
   "cell_type": "markdown",
   "metadata": {},
   "source": [
    "# Singular Value Decomposition \n",
    "\n",
    "IF system is inconsistant  then it gives best fit. (OLS)\n",
    "IF system is consistant then it will give one of the solution. \n",
    "\n",
    "IF rank (A|b)=rank(A) Consistant \n",
    "if = min(m,n) then unique solution "
   ]
  },
  {
   "cell_type": "code",
   "execution_count": 12,
   "metadata": {},
   "outputs": [
    {
     "data": {
      "text/plain": [
       "array([[-6.38888889e-01, -1.66666667e-01,  3.05555556e-01],\n",
       "       [-5.55555556e-02,  3.46944695e-17,  5.55555556e-02],\n",
       "       [ 5.27777778e-01,  1.66666667e-01, -1.94444444e-01]])"
      ]
     },
     "execution_count": 12,
     "metadata": {},
     "output_type": "execute_result"
    }
   ],
   "source": [
    "la.pinv(A) # Sudo inverse.  "
   ]
  },
  {
   "cell_type": "markdown",
   "metadata": {},
   "source": [
    "# LU Decomposition \n",
    "A= LU \n",
    "IF rank(A)=r\n",
    "then if first r rows are linearly independent than A will have LU decomposition \n",
    "\n"
   ]
  },
  {
   "cell_type": "markdown",
   "metadata": {},
   "source": [
    "# Gramm-Schmidth Orthogonaliztion \n",
    "u1=a1/||a1|| \n",
    "u2=[a2-(a2.a1^)a1^]/norm\n"
   ]
  },
  {
   "cell_type": "code",
   "execution_count": 13,
   "metadata": {},
   "outputs": [
    {
     "ename": "NameError",
     "evalue": "name 'b' is not defined",
     "output_type": "error",
     "traceback": [
      "\u001b[0;31m---------------------------------------------------------------------------\u001b[0m",
      "\u001b[0;31mNameError\u001b[0m                                 Traceback (most recent call last)",
      "Cell \u001b[0;32mIn [13], line 1\u001b[0m\n\u001b[0;32m----> 1\u001b[0m np\u001b[38;5;241m.\u001b[39mlinalg\u001b[38;5;241m.\u001b[39mlstsq(A,\u001b[43mb\u001b[49m)\n",
      "\u001b[0;31mNameError\u001b[0m: name 'b' is not defined"
     ]
    }
   ],
   "source": [
    "np.linalg.lstsq(A,b) # A daggar b Solve linear algebra"
   ]
  },
  {
   "cell_type": "code",
   "execution_count": 1,
   "metadata": {},
   "outputs": [],
   "source": [
    "import numpy as np \n",
    "\n",
    "A=np.array([[2,3,7],[1,1,5],[4,3,1]])\n",
    "b=np.array([5,13,3]).T\n"
   ]
  },
  {
   "cell_type": "code",
   "execution_count": 7,
   "metadata": {},
   "outputs": [
    {
     "ename": "AttributeError",
     "evalue": "'numpy.ndarray' object has no attribute 'dim'",
     "output_type": "error",
     "traceback": [
      "\u001b[0;31m---------------------------------------------------------------------------\u001b[0m",
      "\u001b[0;31mAttributeError\u001b[0m                            Traceback (most recent call last)",
      "Cell \u001b[0;32mIn [7], line 1\u001b[0m\n\u001b[0;32m----> 1\u001b[0m \u001b[43mA\u001b[49m\u001b[38;5;241;43m.\u001b[39;49m\u001b[43mdim\u001b[49m\n",
      "\u001b[0;31mAttributeError\u001b[0m: 'numpy.ndarray' object has no attribute 'dim'"
     ]
    }
   ],
   "source": []
  },
  {
   "cell_type": "code",
   "execution_count": null,
   "metadata": {},
   "outputs": [],
   "source": [
    "\n",
    "if np.rank(A)==np.rank(np.append(A,b,axis=1)):\n",
    "    if()"
   ]
  },
  {
   "cell_type": "markdown",
   "metadata": {},
   "source": [
    "# Newton Raphson \n",
    "x1=x0-f(x0)/f'(x0) \n",
    "\n",
    "\n",
    "x_{n+1}=x_n-f(xn)/f'(xn)\n",
    "\n",
    "f(x*)=0\n",
    "f(x)=f(xn)+f'(xn)(x-xn)+f''(xn)(x-xn)^2/2\n",
    "0=f(xn)+f'(xn)(x*-xn)+f''(xn)(x*-xn)^2/2   Dividing by f'(xn)\n",
    "\n",
    "xn -f(xn)/f'(xn) -x*= f''(xn)(x*-xn)^2/2f'(xn)\n",
    "\n",
    "order of convergence \n",
    "lim n-> \\inf  (x_{n+1}-x*)/(x_n-x*)^p \\in (0,inf)"
   ]
  },
  {
   "cell_type": "markdown",
   "metadata": {},
   "source": [
    "tanh(x)"
   ]
  },
  {
   "cell_type": "markdown",
   "metadata": {},
   "source": [
    "square free polynomial \n",
    "Multiplicity of roots be equal one "
   ]
  },
  {
   "cell_type": "code",
   "execution_count": 17,
   "metadata": {},
   "outputs": [
    {
     "name": "stdout",
     "output_type": "stream",
     "text": [
      "[-11.644958598563877, -0.9999999998464155]\n",
      "[3255536207.187715, nan]\n"
     ]
    },
    {
     "name": "stderr",
     "output_type": "stream",
     "text": [
      "/tmp/ipykernel_2882/3290775978.py:5: RuntimeWarning: overflow encountered in exp\n",
      "  print([x,(np.exp(x)-np.exp(-x))/(np.exp(x)+np.exp(-x))])\n",
      "/tmp/ipykernel_2882/3290775978.py:5: RuntimeWarning: invalid value encountered in scalar divide\n",
      "  print([x,(np.exp(x)-np.exp(-x))/(np.exp(x)+np.exp(-x))])\n",
      "/tmp/ipykernel_2882/3290775978.py:3: RuntimeWarning: overflow encountered in exp\n",
      "  while np. abs ((np.exp(x)-np.exp(-x))/(np.exp(x)+np.exp(-x)))>=1e-6:\n",
      "/tmp/ipykernel_2882/3290775978.py:3: RuntimeWarning: invalid value encountered in scalar divide\n",
      "  while np. abs ((np.exp(x)-np.exp(-x))/(np.exp(x)+np.exp(-x)))>=1e-6:\n"
     ]
    }
   ],
   "source": [
    "import numpy as np \n",
    "x=2\n",
    "while np. abs ((np.exp(x)-np.exp(-x))/(np.exp(x)+np.exp(-x)))>=1e-6:\n",
    "    x=x-(np.exp(x)-np.exp(-x))*(np.exp(x)+np.exp(-x))/4 \n",
    "    print([x,(np.exp(x)-np.exp(-x))/(np.exp(x)+np.exp(-x))])"
   ]
  },
  {
   "cell_type": "code",
   "execution_count": 82,
   "metadata": {},
   "outputs": [],
   "source": [
    "import numpy as np \n",
    "\n",
    "A=np.array([[2,3,7],[1,1,5]])\n",
    "b=np.array([5,13])\n"
   ]
  },
  {
   "cell_type": "code",
   "execution_count": 59,
   "metadata": {},
   "outputs": [
    {
     "ename": "ValueError",
     "evalue": "all the input arrays must have same number of dimensions, but the array at index 0 has 2 dimension(s) and the array at index 1 has 1 dimension(s)",
     "output_type": "error",
     "traceback": [
      "\u001b[0;31m---------------------------------------------------------------------------\u001b[0m",
      "\u001b[0;31mValueError\u001b[0m                                Traceback (most recent call last)",
      "Cell \u001b[0;32mIn [59], line 1\u001b[0m\n\u001b[0;32m----> 1\u001b[0m \u001b[43mnp\u001b[49m\u001b[38;5;241;43m.\u001b[39;49m\u001b[43mconcatenate\u001b[49m\u001b[43m(\u001b[49m\u001b[43m(\u001b[49m\u001b[43mA\u001b[49m\u001b[43m,\u001b[49m\u001b[43mb\u001b[49m\u001b[43m)\u001b[49m\u001b[43m,\u001b[49m\u001b[43maxis\u001b[49m\u001b[38;5;241;43m=\u001b[39;49m\u001b[38;5;241;43m0\u001b[39;49m\u001b[43m)\u001b[49m\n",
      "File \u001b[0;32m<__array_function__ internals>:200\u001b[0m, in \u001b[0;36mconcatenate\u001b[0;34m(*args, **kwargs)\u001b[0m\n",
      "\u001b[0;31mValueError\u001b[0m: all the input arrays must have same number of dimensions, but the array at index 0 has 2 dimension(s) and the array at index 1 has 1 dimension(s)"
     ]
    }
   ],
   "source": [
    "np.concatenate((A,b),axis=0)"
   ]
  },
  {
   "cell_type": "code",
   "execution_count": 19,
   "metadata": {},
   "outputs": [
    {
     "data": {
      "text/plain": [
       "array([-2.21621622, -7.41891892,  4.52702703])"
      ]
     },
     "execution_count": 19,
     "metadata": {},
     "output_type": "execute_result"
    }
   ],
   "source": [
    "np.linalg.pinv(A)@b"
   ]
  },
  {
   "cell_type": "code",
   "execution_count": 23,
   "metadata": {},
   "outputs": [],
   "source": [
    "\n",
    "rA=np.linalg.matrix_rank(A)\n",
    "rAb=np.linalg.matrix_rank(np.append(A,b))\n",
    "u,s,v=np.linalg.svd(A)"
   ]
  },
  {
   "cell_type": "code",
   "execution_count": 27,
   "metadata": {},
   "outputs": [
    {
     "name": "stdout",
     "output_type": "stream",
     "text": [
      "Infinite snp.linalg.rank(A)olution: [9.38938885 0.91617521] + one of the element of null space with basis\n",
      "[[-0.92998111]\n",
      " [ 0.34874292]\n",
      " [ 0.11624764]]\n"
     ]
    }
   ],
   "source": [
    "print(\"Infinite solution:\",s, \"+ one of the element of null space with basis\") \n",
    "print(v.T[:,rA:])"
   ]
  },
  {
   "cell_type": "code",
   "execution_count": 28,
   "metadata": {},
   "outputs": [
    {
     "data": {
      "text/plain": [
       "array([ 8.89018428, -0.57323846, -4.31694582])"
      ]
     },
     "execution_count": 28,
     "metadata": {},
     "output_type": "execute_result"
    }
   ],
   "source": [
    "A=np.array([[2,3,7],[1,1,5],[4,3,1]])\n",
    "np.linalg.eigvals(A)"
   ]
  },
  {
   "cell_type": "code",
   "execution_count": 77,
   "metadata": {},
   "outputs": [
    {
     "data": {
      "text/plain": [
       "array([[-0.72869727, -0.55610719, -0.49269814],\n",
       "       [-0.43008143,  0.81814926, -0.54516661],\n",
       "       [-0.53294489, -0.14620734,  0.6782639 ]])"
      ]
     },
     "execution_count": 77,
     "metadata": {},
     "output_type": "execute_result"
    }
   ],
   "source": [
    "\n",
    "#A=np.array([[2,3,7],[1,1,5],[1,1,5]])\n",
    "\n",
    "A=np.array([[2,3,7],[1,1,5],[4,3,1]])\n",
    "e,ev=np.linalg.eig(A)\n",
    "ev"
   ]
  },
  {
   "cell_type": "code",
   "execution_count": 70,
   "metadata": {},
   "outputs": [
    {
     "data": {
      "text/plain": [
       "array([-3.77475828e-15,  0.00000000e+00,  0.00000000e+00])"
      ]
     },
     "execution_count": 70,
     "metadata": {},
     "output_type": "execute_result"
    }
   ],
   "source": [
    "A@ev[:,2]"
   ]
  },
  {
   "cell_type": "code",
   "execution_count": 78,
   "metadata": {},
   "outputs": [
    {
     "name": "stdout",
     "output_type": "stream",
     "text": [
      "[[2 3 7]\n",
      " [1 1 5]\n",
      " [4 3 1]] is indefinite\n",
      "[[-0.72869727]\n",
      " [-0.43008143]\n",
      " [-0.53294489]] is vactor such that xTAx>0\n",
      "[[-0.49269814]\n",
      " [-0.54516661]\n",
      " [ 0.6782639 ]] is vactor such that xTAx<0\n"
     ]
    }
   ],
   "source": [
    "print(A, \"is indefinite\")\n",
    "print(ev[:,e==max(e)],'is vactor such that xTAx>0', )\n",
    "print(ev[:,e==min(e)],'is vactor such that xTAx<0')\n",
    "\n"
   ]
  },
  {
   "cell_type": "code",
   "execution_count": 80,
   "metadata": {},
   "outputs": [
    {
     "data": {
      "text/plain": [
       "array([[-4.31694582]])"
      ]
     },
     "execution_count": 80,
     "metadata": {},
     "output_type": "execute_result"
    }
   ],
   "source": [
    "(ev[:,e==min(e)]).T @A@ev[:,e==min(e)]"
   ]
  },
  {
   "cell_type": "code",
   "execution_count": 85,
   "metadata": {},
   "outputs": [
    {
     "data": {
      "text/plain": [
       "(array([[ 5.80887372],\n",
       "        [-7.74061433],\n",
       "        [ 2.49488055]]),\n",
       " array([8.84641638]),\n",
       " 3,\n",
       " array([11.26554452,  4.12324429,  1.04228755]))"
      ]
     },
     "execution_count": 85,
     "metadata": {},
     "output_type": "execute_result"
    }
   ],
   "source": [
    "\n",
    "A=np.array([[2,3,7],[1,1,5],[4,3,1],[2,1,5]])\n",
    "b=np.array([5,13,3,15]).reshape((4,1))\n",
    "np.linalg.lstsq(A,b,rcond=None)"
   ]
  },
  {
   "cell_type": "code",
   "execution_count": 93,
   "metadata": {},
   "outputs": [],
   "source": [
    "import numpy as np \n",
    "\n",
    "A=np.array([[2,3,7],[1,1,5],[1,2,2]])\n",
    "z=np.zeros(A.shape)\n",
    "\n",
    "for i in range(A.shape[1]):\n",
    "    if A[:,i].dot(A[:,i])>0:\n",
    "        z[:,i]=A[:,i]\n",
    "        for j in range(i):\n",
    "            if z[:,j].dot(z[:,j])>0:\n",
    "                z[:,i]=z[:,i]- z[:,i].dot(z[:,j])*z[:,j]/(z[:,j].dot(z[:,j]))\n",
    "\n",
    "\n",
    "z_norm=np.array([np.sqrt(z[:,i].dot(z[:,i]))for i in range(A.shape[1])])\n",
    "\n"
   ]
  },
  {
   "cell_type": "code",
   "execution_count": 94,
   "metadata": {},
   "outputs": [
    {
     "name": "stdout",
     "output_type": "stream",
     "text": [
      "Maximal set of linearly independent colums are \n",
      " [[2 3]\n",
      " [1 1]\n",
      " [1 2]]\n"
     ]
    }
   ],
   "source": [
    "z\n",
    "print(\"Maximal set of linearly independent colums are \\n\", A[:,z_norm>0])\n"
   ]
  },
  {
   "cell_type": "code",
   "execution_count": 107,
   "metadata": {},
   "outputs": [],
   "source": [
    "z_norm=np.array([np.sqrt(z[:,i].dot(z[:,i]))for i in range(A.shape[1])])\n",
    "z[:,z_norm>0]=z[:,z_norm>0]/z_norm[z_norm>0]"
   ]
  },
  {
   "cell_type": "code",
   "execution_count": 108,
   "metadata": {},
   "outputs": [
    {
     "data": {
      "text/plain": [
       "array([[ 0.81649658,  0.        ,  0.        ],\n",
       "       [ 0.40824829, -0.70710678,  0.        ],\n",
       "       [ 0.40824829,  0.70710678,  0.        ]])"
      ]
     },
     "execution_count": 108,
     "metadata": {},
     "output_type": "execute_result"
    }
   ],
   "source": [
    "\n",
    "z"
   ]
  },
  {
   "cell_type": "code",
   "execution_count": 109,
   "metadata": {},
   "outputs": [
    {
     "name": "stdout",
     "output_type": "stream",
     "text": [
      "Maximal set of linearly independent colums are \n",
      " [[2 3]\n",
      " [1 1]\n",
      " [1 2]]\n",
      "Orthonormal basis for colum space of A is [[ 0.81649658  0.          0.        ]\n",
      " [ 0.40824829 -0.70710678  0.        ]\n",
      " [ 0.40824829  0.70710678  0.        ]]\n"
     ]
    }
   ],
   "source": [
    "for i in range(A.shape[1]):\n",
    "    if A[:,i].dot(A[:,i])>0:\n",
    "        z[:,i]=A[:,i]\n",
    "        for j in range(i):\n",
    "            if z[:,j].dot(z[:,j])>0:\n",
    "                z[:,i]=z[:,i]- z[:,i].dot(z[:,j])*z[:,j]/(z[:,j].dot(z[:,j]))\n",
    "\n",
    "z_norm=np.array([np.sqrt(z[:,i].dot(z[:,i])) for i in range(A.shape[1])])\n",
    "z[:,z_norm>0]=z[:,z_norm>0]/z_norm[z_norm>0]\n",
    "print(\"Maximal set of linearly independent colums are \\n\", A[:,z_norm>0])\n",
    "print(\"Orthonormal basis for colum space of A is\",z)\n"
   ]
  },
  {
   "cell_type": "code",
   "execution_count": 7,
   "metadata": {},
   "outputs": [
    {
     "data": {
      "text/plain": [
       "array([[0., 0., 0.],\n",
       "       [0., 0., 0.],\n",
       "       [0., 0., 0.]])"
      ]
     },
     "execution_count": 7,
     "metadata": {},
     "output_type": "execute_result"
    }
   ],
   "source": [
    "import numpy as np \n",
    "A=np.array([[1,0],[0,0],[0,1]]) \n",
    "B=np.zeros((A.shape[0],A.shape[0]))\n",
    "B"
   ]
  },
  {
   "cell_type": "code",
   "execution_count": 8,
   "metadata": {},
   "outputs": [
    {
     "name": "stdout",
     "output_type": "stream",
     "text": [
      "[[ 1.  0.  0.]\n",
      " [ 0.  0. -1.]\n",
      " [ 0.  1.  0.]]\n"
     ]
    }
   ],
   "source": [
    "B[:,:A.shape[1]]=A\n",
    "u,z,v=np.linalg.svd(A)\n",
    "for i in range(A.shape[1],A.shape[0]):\n",
    "    B[:,i]=u[:,i]\n",
    "    for j in range(i):\n",
    "        B[:,i]=B[:,i]-B[:,i].dot(B[:,j])*B[:,j]\n",
    "\n",
    "print(B)"
   ]
  },
  {
   "cell_type": "code",
   "execution_count": 12,
   "metadata": {},
   "outputs": [
    {
     "data": {
      "text/plain": [
       "(2, 1)"
      ]
     },
     "execution_count": 12,
     "metadata": {},
     "output_type": "execute_result"
    }
   ],
   "source": [
    "import numpy as np\n",
    "np.array([[1,2],[2,4]])[:,1:].shape"
   ]
  },
  {
   "cell_type": "code",
   "execution_count": 19,
   "metadata": {},
   "outputs": [],
   "source": [
    "A=np.array([[1,1],[2,2]])\n",
    "def r(A):\n",
    "    j=A[0,:].copy()\n",
    "    A[0,:]=A[1,:]\n",
    "    A[1,:]=j\n",
    "    print(A, \"from func\")"
   ]
  },
  {
   "cell_type": "code",
   "execution_count": 20,
   "metadata": {},
   "outputs": [
    {
     "name": "stdout",
     "output_type": "stream",
     "text": [
      "[[1 1]\n",
      " [2 2]]\n",
      "[[2 2]\n",
      " [1 1]] from func\n",
      "[[2 2]\n",
      " [1 1]]\n"
     ]
    }
   ],
   "source": [
    "print(A)\n",
    "r(A)\n",
    "print(A)"
   ]
  },
  {
   "cell_type": "code",
   "execution_count": 4,
   "metadata": {},
   "outputs": [
    {
     "data": {
      "text/plain": [
       "array([0, 1, 2, 0, 0])"
      ]
     },
     "execution_count": 4,
     "metadata": {},
     "output_type": "execute_result"
    }
   ],
   "source": [
    "import numpy as np\n",
    "x=np.arange(5)\n",
    "x[x>2]=0\n",
    "x"
   ]
  }
 ],
 "metadata": {
  "kernelspec": {
   "display_name": "Python 3",
   "language": "python",
   "name": "python3"
  },
  "language_info": {
   "codemirror_mode": {
    "name": "ipython",
    "version": 3
   },
   "file_extension": ".py",
   "mimetype": "text/x-python",
   "name": "python",
   "nbconvert_exporter": "python",
   "pygments_lexer": "ipython3",
   "version": "3.11.2"
  }
 },
 "nbformat": 4,
 "nbformat_minor": 2
}
