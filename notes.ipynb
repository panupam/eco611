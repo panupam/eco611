{
 "cells": [
  {
   "cell_type": "code",
   "execution_count": null,
   "metadata": {},
   "outputs": [],
   "source": [
    "import pandas as pd \n",
    "import numpy as np\n"
   ]
  },
  {
   "cell_type": "code",
   "execution_count": null,
   "metadata": {},
   "outputs": [],
   "source": [
    "file=open('ab.txt','w') # 'a' if you wish to append \n",
    "file.write(\"Hello World\") # Output is no of character \n",
    "file.close()"
   ]
  },
  {
   "cell_type": "code",
   "execution_count": null,
   "metadata": {},
   "outputs": [],
   "source": [
    "file=open('ab.txt','r')\n",
    "file.read()\n",
    "file.read()\n",
    "file.seek(0) # Move the cursor \n",
    "print(file.readlines()) # readline() will read one line only"
   ]
  },
  {
   "cell_type": "code",
   "execution_count": null,
   "metadata": {},
   "outputs": [],
   "source": [
    "file=open('ab.txt','a+')\n",
    "file.write(\"\\nHi everyone\")\n",
    "print(file.read())\n",
    "file.close()"
   ]
  },
  {
   "cell_type": "code",
   "execution_count": null,
   "metadata": {},
   "outputs": [],
   "source": [
    "a=np.reshape(np.arange(1,626,dtype=int),(25,25))\n",
    "#print(a)\n",
    "np.savetxt(\"ab.txt\",a,fmt='%4d')\n",
    "b=np.loadtxt(\"ab.txt\",usecols=range(23)) # if missmach in no. shows error"
   ]
  },
  {
   "cell_type": "code",
   "execution_count": null,
   "metadata": {},
   "outputs": [],
   "source": [
    "name=[\"abc\",\"def\",'pqr']\n",
    "m1=[1,4,7]\n",
    "m2=[9,7 ,8]\n",
    "m3=[7,6,9]\n"
   ]
  },
  {
   "cell_type": "code",
   "execution_count": null,
   "metadata": {},
   "outputs": [],
   "source": [
    "dict={\"Name\":name,\"Mark1\":m1,\"Mark2\":m2,\"Mark3\":m3}"
   ]
  },
  {
   "cell_type": "code",
   "execution_count": null,
   "metadata": {},
   "outputs": [],
   "source": [
    "df=pd.DataFrame(dict)\n",
    "df.to_csv('ab.csv',index=False,sep=';') \n"
   ]
  },
  {
   "cell_type": "code",
   "execution_count": null,
   "metadata": {},
   "outputs": [],
   "source": [
    "dt=pd.read_csv('ab.csv',delimiter=';')"
   ]
  },
  {
   "cell_type": "code",
   "execution_count": null,
   "metadata": {},
   "outputs": [],
   "source": [
    "print(dt)"
   ]
  },
  {
   "cell_type": "code",
   "execution_count": null,
   "metadata": {},
   "outputs": [],
   "source": [
    "a=np.array(dt)\n",
    "total=a[:,1:].sum(axis=1)\n",
    "percent=total*100/30\n",
    "new_col={\"Total\":total,\"Percent\":percent}"
   ]
  },
  {
   "cell_type": "code",
   "execution_count": null,
   "metadata": {},
   "outputs": [],
   "source": [
    "df=df.assign(**new_col)"
   ]
  },
  {
   "cell_type": "code",
   "execution_count": null,
   "metadata": {},
   "outputs": [],
   "source": [
    "df.insert(4,\"Mark 4\",[5,8,6],allow_duplicates=True)"
   ]
  },
  {
   "cell_type": "code",
   "execution_count": null,
   "metadata": {},
   "outputs": [],
   "source": [
    "df.iloc[:]"
   ]
  },
  {
   "cell_type": "code",
   "execution_count": null,
   "metadata": {},
   "outputs": [],
   "source": [
    "df.iloc[0,0]=\"ABC\"\n",
    "df"
   ]
  },
  {
   "cell_type": "code",
   "execution_count": null,
   "metadata": {},
   "outputs": [],
   "source": [
    "print(df.drop(\"Mark 4\",axis=1))\n"
   ]
  },
  {
   "cell_type": "code",
   "execution_count": null,
   "metadata": {},
   "outputs": [],
   "source": [
    "#string operation\n",
    "a=\"Hello World\"\n",
    "a.count('o')"
   ]
  },
  {
   "cell_type": "code",
   "execution_count": null,
   "metadata": {},
   "outputs": [],
   "source": [
    "a.find('el')"
   ]
  },
  {
   "cell_type": "code",
   "execution_count": null,
   "metadata": {},
   "outputs": [],
   "source": [
    "(a+'02%9').lower()"
   ]
  },
  {
   "cell_type": "code",
   "execution_count": null,
   "metadata": {},
   "outputs": [],
   "source": [
    "def com(n,r):\n",
    "    if n==r or r==0:\n",
    "        return 1\n",
    "    else:\n",
    "        return com(n-1,r)+com(n-1,r-1)\n",
    "    "
   ]
  },
  {
   "cell_type": "code",
   "execution_count": null,
   "metadata": {},
   "outputs": [],
   "source": [
    "com(5,3)"
   ]
  },
  {
   "cell_type": "code",
   "execution_count": null,
   "metadata": {},
   "outputs": [],
   "source": [
    "import numpy as np\n",
    "a=np.arange(10)\n",
    "b=np.zeros(10)\n",
    "b[a>5]=5\n",
    "print(b)"
   ]
  },
  {
   "cell_type": "code",
   "execution_count": null,
   "metadata": {},
   "outputs": [],
   "source": [
    "(a>5) * (a>9)"
   ]
  },
  {
   "cell_type": "code",
   "execution_count": null,
   "metadata": {},
   "outputs": [],
   "source": [
    "import numpy as np\n",
    "import numpy.random as random \n",
    "import matplotlib.pyplot as plt\n",
    "\n",
    "a=random.randint(1,11,1000)\n",
    "b=np.zeros(1000)\n",
    "\n",
    "b[a==1]=1\n",
    "b[(a<=3)* ( a>1)]=2\n",
    "b[(a<=6)* ( a>3)]=3\n",
    "b[ a>6]=4\n",
    "\n",
    "# for i in range(a.size):\n",
    "#     if a[i]<=1:\n",
    "#         b=np.append(b,1)\n",
    "#     elif a[i]<=3:\n",
    "#         b=np.append(b,2)\n",
    "#     elif a[i]<=6:\n",
    "#         b=np.append(b,3)\n",
    "#     else:\n",
    "#         b=np.append(b,4)\n",
    "        \n",
    "freq=np.array([])\n",
    "for i in range(1,5):\n",
    "    freq=np.append(freq,np.sum(b==i))\n",
    "\n",
    "plt.bar(range(1,5),freq/1000)\n",
    "plt.plot()\n",
    "\n"
   ]
  },
  {
   "cell_type": "code",
   "execution_count": 6,
   "metadata": {},
   "outputs": [
    {
     "data": {
      "text/plain": [
       "[]"
      ]
     },
     "execution_count": 6,
     "metadata": {},
     "output_type": "execute_result"
    },
    {
     "data": {
      "image/png": "[encoded data removed]",
      "text/plain": [
       "<Figure size 640x480 with 1 Axes>"
      ]
     },
     "metadata": {},
     "output_type": "display_data"
    }
   ],
   "source": [
    "import numpy as np\n",
    "import numpy.random as random \n",
    "import matplotlib.pyplot as plt\n",
    "\n",
    "a=random.rand(1000)\n",
    "b=np.zeros(1000)\n",
    "p=np.sqrt(np.arange(1,5))\n",
    "cdf=np.array([sum(p[:i+1])/sum(p) for i in range(4)])\n",
    "#print([p[i]/sum(p) for i in range(4)])\n",
    "b[a<=cdf[0]]=1\n",
    "b[(a<=cdf[1])*(a>cdf[0])]=2\n",
    "b[(a<=cdf[2])*(a>cdf[1])]=3\n",
    "b[a>cdf[2]]=4\n",
    "freq=np.array([])\n",
    "for i in range(1,5):\n",
    "    freq=np.append(freq,np.sum(b==i))\n",
    "\n",
    "plt.bar(range(1,5),freq/1000)\n",
    "plt.plot()"
   ]
  },
  {
   "cell_type": "code",
   "execution_count": 12,
   "metadata": {},
   "outputs": [
    {
     "data": {
      "text/plain": [
       "(array([0.12761667, 0.3423612 , 0.51815445, 0.72059857, 0.91945508,\n",
       "        0.88716652, 0.69548525, 0.50175391, 0.30802258, 0.10455342]),\n",
       " array([-0.96874646, -0.77363089, -0.57851532, -0.38339975, -0.18828418,\n",
       "         0.00683139,  0.20194695,  0.39706252,  0.59217809,  0.78729366,\n",
       "         0.98240923]),\n",
       " <BarContainer object of 10 artists>)"
      ]
     },
     "execution_count": 12,
     "metadata": {},
     "output_type": "execute_result"
    },
    {
     "data": {
      "image/png": "[encoded data removed]",
      "text/plain": [
       "<Figure size 640x480 with 1 Axes>"
      ]
     },
     "metadata": {},
     "output_type": "display_data"
    }
   ],
   "source": [
    "import numpy as np\n",
    "import numpy.random as random \n",
    "import matplotlib.pyplot as plt\n",
    "\n",
    "a=random.rand(10000)\n",
    "b=np.zeros(10000)\n",
    "for i in range(10000):\n",
    "    if a[i]>0.5:\n",
    "        b[i]=1-np.sqrt(2*(1-a[i]))\n",
    "    else:\n",
    "        b[i]=np.sqrt(2*a[i])-1\n",
    "\n",
    "\n",
    "plt.hist(b,10,density=True)"
   ]
  },
  {
   "cell_type": "code",
   "execution_count": 1,
   "metadata": {},
   "outputs": [
    {
     "name": "stdout",
     "output_type": "stream",
     "text": [
      "[0 1 2 3 4 5 6 7 8 9]\n",
      "[[0 1 2 3 4]\n",
      " [5 6 7 8 9]]\n",
      "[[11  1  2  3  4]\n",
      " [ 5  6  7  8  9]]\n",
      "[11  1  2  3  4  5  6  7  8  9]\n"
     ]
    }
   ],
   "source": [
    "import numpy as np \n",
    "a=np.arange(10)\n",
    "print(a)\n",
    "a_re=a.reshape((2,5))\n",
    "print(a_re)\n",
    "a_re[0,0]=11 \n",
    "print(a_re )\n",
    "print(a)"
   ]
  },
  {
   "cell_type": "code",
   "execution_count": 2,
   "metadata": {},
   "outputs": [
    {
     "name": "stdout",
     "output_type": "stream",
     "text": [
      "[[10  9  8  7  6]\n",
      " [ 5  6  7  8  9]]\n",
      "[10  9  8  7  6  5  6  7  8  9]\n"
     ]
    }
   ],
   "source": [
    "a_re[0]=np.array([10,9,8,7,6])\n",
    "print(a_re)\n",
    "print(a)"
   ]
  },
  {
   "cell_type": "code",
   "execution_count": 3,
   "metadata": {},
   "outputs": [
    {
     "name": "stdout",
     "output_type": "stream",
     "text": [
      "\u001b[0;31mDocstring:\u001b[0m\n",
      "normal(loc=0.0, scale=1.0, size=None)\n",
      "\n",
      "Draw random samples from a normal (Gaussian) distribution.\n",
      "\n",
      "The probability density function of the normal distribution, first\n",
      "derived by De Moivre and 200 years later by both Gauss and Laplace\n",
      "independently [2]_, is often called the bell curve because of\n",
      "its characteristic shape (see the example below).\n",
      "\n",
      "The normal distributions occurs often in nature.  For example, it\n",
      "describes the commonly occurring distribution of samples influenced\n",
      "by a large number of tiny, random disturbances, each with its own\n",
      "unique distribution [2]_.\n",
      "\n",
      ".. note::\n",
      "    New code should use the `~numpy.random.Generator.normal`\n",
      "    method of a `~numpy.random.Generator` instance instead;\n",
      "    please see the :ref:`random-quick-start`.\n",
      "\n",
      "Parameters\n",
      "----------\n",
      "loc : float or array_like of floats\n",
      "    Mean (\"centre\") of the distribution.\n",
      "scale : float or array_like of floats\n",
      "    Standard deviation (spread or \"width\") of the distribution. Must be\n",
      "    non-negative.\n",
      "size : int or tuple of ints, optional\n",
      "    Output shape.  If the given shape is, e.g., ``(m, n, k)``, then\n",
      "    ``m * n * k`` samples are drawn.  If size is ``None`` (default),\n",
      "    a single value is returned if ``loc`` and ``scale`` are both scalars.\n",
      "    Otherwise, ``np.broadcast(loc, scale).size`` samples are drawn.\n",
      "\n",
      "Returns\n",
      "-------\n",
      "out : ndarray or scalar\n",
      "    Drawn samples from the parameterized normal distribution.\n",
      "\n",
      "See Also\n",
      "--------\n",
      "scipy.stats.norm : probability density function, distribution or\n",
      "    cumulative density function, etc.\n",
      "random.Generator.normal: which should be used for new code.\n",
      "\n",
      "Notes\n",
      "-----\n",
      "The probability density for the Gaussian distribution is\n",
      "\n",
      ".. math:: p(x) = \\frac{1}{\\sqrt{ 2 \\pi \\sigma^2 }}\n",
      "                 e^{ - \\frac{ (x - \\mu)^2 } {2 \\sigma^2} },\n",
      "\n",
      "where :math:`\\mu` is the mean and :math:`\\sigma` the standard\n",
      "deviation. The square of the standard deviation, :math:`\\sigma^2`,\n",
      "is called the variance.\n",
      "\n",
      "The function has its peak at the mean, and its \"spread\" increases with\n",
      "the standard deviation (the function reaches 0.607 times its maximum at\n",
      ":math:`x + \\sigma` and :math:`x - \\sigma` [2]_).  This implies that\n",
      "normal is more likely to return samples lying close to the mean, rather\n",
      "than those far away.\n",
      "\n",
      "References\n",
      "----------\n",
      ".. [1] Wikipedia, \"Normal distribution\",\n",
      "       https://en.wikipedia.org/wiki/Normal_distribution\n",
      ".. [2] P. R. Peebles Jr., \"Central Limit Theorem\" in \"Probability,\n",
      "       Random Variables and Random Signal Principles\", 4th ed., 2001,\n",
      "       pp. 51, 51, 125.\n",
      "\n",
      "Examples\n",
      "--------\n",
      "Draw samples from the distribution:\n",
      "\n",
      ">>> mu, sigma = 0, 0.1 # mean and standard deviation\n",
      ">>> s = np.random.normal(mu, sigma, 1000)\n",
      "\n",
      "Verify the mean and the variance:\n",
      "\n",
      ">>> abs(mu - np.mean(s))\n",
      "0.0  # may vary\n",
      "\n",
      ">>> abs(sigma - np.std(s, ddof=1))\n",
      "0.1  # may vary\n",
      "\n",
      "Display the histogram of the samples, along with\n",
      "the probability density function:\n",
      "\n",
      ">>> import matplotlib.pyplot as plt\n",
      ">>> count, bins, ignored = plt.hist(s, 30, density=True)\n",
      ">>> plt.plot(bins, 1/(sigma * np.sqrt(2 * np.pi)) *\n",
      "...                np.exp( - (bins - mu)**2 / (2 * sigma**2) ),\n",
      "...          linewidth=2, color='r')\n",
      ">>> plt.show()\n",
      "\n",
      "Two-by-four array of samples from the normal distribution with\n",
      "mean 3 and standard deviation 2.5:\n",
      "\n",
      ">>> np.random.normal(3, 2.5, size=(2, 4))\n",
      "array([[-4.49401501,  4.00950034, -1.81814867,  7.29718677],   # random\n",
      "       [ 0.39924804,  4.68456316,  4.99394529,  4.84057254]])  # random\n",
      "\u001b[0;31mType:\u001b[0m      builtin_function_or_method\n"
     ]
    }
   ],
   "source": [
    "np.random.normal?"
   ]
  },
  {
   "cell_type": "code",
   "execution_count": 1,
   "metadata": {},
   "outputs": [],
   "source": [
    "import numpy as np \n",
    "def ech(A):\n",
    "    if A.shape[0]==1 :\n",
    "        return \n",
    "    else:\n",
    "        if A[0,0]==0:\n",
    "            pass\n",
    "        else:\n",
    "            v=A[1:,0]\n",
    "            w=A[0,1:]\n",
    "            A[1:,1:]=A[1:,1:]-v@w/A[0,0]\n",
    "            A[1:,0]=A[1:,0]*0\n",
    "            ech(A[1:,1:])"
   ]
  },
  {
   "cell_type": "code",
   "execution_count": 9,
   "metadata": {},
   "outputs": [],
   "source": [
    "A=np.array([[2,3,7],[1,1,5],[4,3,1]]) \n"
   ]
  },
  {
   "cell_type": "code",
   "execution_count": 22,
   "metadata": {},
   "outputs": [],
   "source": [
    "v=A[1:,0]\n",
    "w=A[0,1:]\n"
   ]
  },
  {
   "cell_type": "code",
   "execution_count": 27,
   "metadata": {},
   "outputs": [],
   "source": [
    "p=w.reshape((2,1))"
   ]
  },
  {
   "cell_type": "code",
   "execution_count": 29,
   "metadata": {},
   "outputs": [
    {
     "name": "stdout",
     "output_type": "stream",
     "text": [
      "\u001b[0;31mCall signature:\u001b[0m  \u001b[0mnp\u001b[0m\u001b[0;34m.\u001b[0m\u001b[0mmatmul\u001b[0m\u001b[0;34m(\u001b[0m\u001b[0;34m*\u001b[0m\u001b[0margs\u001b[0m\u001b[0;34m,\u001b[0m \u001b[0;34m**\u001b[0m\u001b[0mkwargs\u001b[0m\u001b[0;34m)\u001b[0m\u001b[0;34m\u001b[0m\u001b[0;34m\u001b[0m\u001b[0m\n",
      "\u001b[0;31mType:\u001b[0m            ufunc\n",
      "\u001b[0;31mString form:\u001b[0m     <ufunc 'matmul'>\n",
      "\u001b[0;31mFile:\u001b[0m            /usr/lib/python3/dist-packages/numpy/__init__.py\n",
      "\u001b[0;31mDocstring:\u001b[0m      \n",
      "matmul(x1, x2, /, out=None, *, casting='same_kind', order='K', dtype=None, subok=True[, signature, extobj, axes, axis])\n",
      "\n",
      "Matrix product of two arrays.\n",
      "\n",
      "Parameters\n",
      "----------\n",
      "x1, x2 : array_like\n",
      "    Input arrays, scalars not allowed.\n",
      "out : ndarray, optional\n",
      "    A location into which the result is stored. If provided, it must have\n",
      "    a shape that matches the signature `(n,k),(k,m)->(n,m)`. If not\n",
      "    provided or None, a freshly-allocated array is returned.\n",
      "**kwargs\n",
      "    For other keyword-only arguments, see the\n",
      "    :ref:`ufunc docs <ufuncs.kwargs>`.\n",
      "\n",
      "    .. versionadded:: 1.16\n",
      "       Now handles ufunc kwargs\n",
      "\n",
      "Returns\n",
      "-------\n",
      "y : ndarray\n",
      "    The matrix product of the inputs.\n",
      "    This is a scalar only when both x1, x2 are 1-d vectors.\n",
      "\n",
      "Raises\n",
      "------\n",
      "ValueError\n",
      "    If the last dimension of `x1` is not the same size as\n",
      "    the second-to-last dimension of `x2`.\n",
      "\n",
      "    If a scalar value is passed in.\n",
      "\n",
      "See Also\n",
      "--------\n",
      "vdot : Complex-conjugating dot product.\n",
      "tensordot : Sum products over arbitrary axes.\n",
      "einsum : Einstein summation convention.\n",
      "dot : alternative matrix product with different broadcasting rules.\n",
      "\n",
      "Notes\n",
      "-----\n",
      "\n",
      "The behavior depends on the arguments in the following way.\n",
      "\n",
      "- If both arguments are 2-D they are multiplied like conventional\n",
      "  matrices.\n",
      "- If either argument is N-D, N > 2, it is treated as a stack of\n",
      "  matrices residing in the last two indexes and broadcast accordingly.\n",
      "- If the first argument is 1-D, it is promoted to a matrix by\n",
      "  prepending a 1 to its dimensions. After matrix multiplication\n",
      "  the prepended 1 is removed.\n",
      "- If the second argument is 1-D, it is promoted to a matrix by\n",
      "  appending a 1 to its dimensions. After matrix multiplication\n",
      "  the appended 1 is removed.\n",
      "\n",
      "``matmul`` differs from ``dot`` in two important ways:\n",
      "\n",
      "- Multiplication by scalars is not allowed, use ``*`` instead.\n",
      "- Stacks of matrices are broadcast together as if the matrices\n",
      "  were elements, respecting the signature ``(n,k),(k,m)->(n,m)``:\n",
      "\n",
      "  >>> a = np.ones([9, 5, 7, 4])\n",
      "  >>> c = np.ones([9, 5, 4, 3])\n",
      "  >>> np.dot(a, c).shape\n",
      "  (9, 5, 7, 9, 5, 3)\n",
      "  >>> np.matmul(a, c).shape\n",
      "  (9, 5, 7, 3)\n",
      "  >>> # n is 7, k is 4, m is 3\n",
      "\n",
      "The matmul function implements the semantics of the ``@`` operator\n",
      "introduced in Python 3.5 following :pep:`465`.\n",
      "\n",
      "It uses an optimized BLAS library when possible (see `numpy.linalg`).\n",
      "\n",
      "Examples\n",
      "--------\n",
      "For 2-D arrays it is the matrix product:\n",
      "\n",
      ">>> a = np.array([[1, 0],\n",
      "...               [0, 1]])\n",
      ">>> b = np.array([[4, 1],\n",
      "...               [2, 2]])\n",
      ">>> np.matmul(a, b)\n",
      "array([[4, 1],\n",
      "       [2, 2]])\n",
      "\n",
      "For 2-D mixed with 1-D, the result is the usual.\n",
      "\n",
      ">>> a = np.array([[1, 0],\n",
      "...               [0, 1]])\n",
      ">>> b = np.array([1, 2])\n",
      ">>> np.matmul(a, b)\n",
      "array([1, 2])\n",
      ">>> np.matmul(b, a)\n",
      "array([1, 2])\n",
      "\n",
      "\n",
      "Broadcasting is conventional for stacks of arrays\n",
      "\n",
      ">>> a = np.arange(2 * 2 * 4).reshape((2, 2, 4))\n",
      ">>> b = np.arange(2 * 2 * 4).reshape((2, 4, 2))\n",
      ">>> np.matmul(a,b).shape\n",
      "(2, 2, 2)\n",
      ">>> np.matmul(a, b)[0, 1, 1]\n",
      "98\n",
      ">>> sum(a[0, 1, :] * b[0 , :, 1])\n",
      "98\n",
      "\n",
      "Vector, vector returns the scalar inner product, but neither argument\n",
      "is complex-conjugated:\n",
      "\n",
      ">>> np.matmul([2j, 3j], [2j, 3j])\n",
      "(-13+0j)\n",
      "\n",
      "Scalar multiplication raises an error.\n",
      "\n",
      ">>> np.matmul([1,2], 3)\n",
      "Traceback (most recent call last):\n",
      "...\n",
      "ValueError: matmul: Input operand 1 does not have enough dimensions ...\n",
      "\n",
      "The ``@`` operator can be used as a shorthand for ``np.matmul`` on\n",
      "ndarrays.\n",
      "\n",
      ">>> x1 = np.array([2j, 3j])\n",
      ">>> x2 = np.array([2j, 3j])\n",
      ">>> x1 @ x2\n",
      "(-13+0j)\n",
      "\n",
      ".. versionadded:: 1.10.0\n",
      "\u001b[0;31mClass docstring:\u001b[0m\n",
      "Functions that operate element by element on whole arrays.\n",
      "\n",
      "To see the documentation for a specific ufunc, use `info`.  For\n",
      "example, ``np.info(np.sin)``.  Because ufuncs are written in C\n",
      "(for speed) and linked into Python with NumPy's ufunc facility,\n",
      "Python's help() function finds this page whenever help() is called\n",
      "on a ufunc.\n",
      "\n",
      "A detailed explanation of ufuncs can be found in the docs for :ref:`ufuncs`.\n",
      "\n",
      "**Calling ufuncs:** ``op(*x[, out], where=True, **kwargs)``\n",
      "\n",
      "Apply `op` to the arguments `*x` elementwise, broadcasting the arguments.\n",
      "\n",
      "The broadcasting rules are:\n",
      "\n",
      "* Dimensions of length 1 may be prepended to either array.\n",
      "* Arrays may be repeated along dimensions of length 1.\n",
      "\n",
      "Parameters\n",
      "----------\n",
      "*x : array_like\n",
      "    Input arrays.\n",
      "out : ndarray, None, or tuple of ndarray and None, optional\n",
      "    Alternate array object(s) in which to put the result; if provided, it\n",
      "    must have a shape that the inputs broadcast to. A tuple of arrays\n",
      "    (possible only as a keyword argument) must have length equal to the\n",
      "    number of outputs; use None for uninitialized outputs to be\n",
      "    allocated by the ufunc.\n",
      "where : array_like, optional\n",
      "    This condition is broadcast over the input. At locations where the\n",
      "    condition is True, the `out` array will be set to the ufunc result.\n",
      "    Elsewhere, the `out` array will retain its original value.\n",
      "    Note that if an uninitialized `out` array is created via the default\n",
      "    ``out=None``, locations within it where the condition is False will\n",
      "    remain uninitialized.\n",
      "**kwargs\n",
      "    For other keyword-only arguments, see the :ref:`ufunc docs <ufuncs.kwargs>`.\n",
      "\n",
      "Returns\n",
      "-------\n",
      "r : ndarray or tuple of ndarray\n",
      "    `r` will have the shape that the arrays in `x` broadcast to; if `out` is\n",
      "    provided, it will be returned. If not, `r` will be allocated and\n",
      "    may contain uninitialized values. If the function has more than one\n",
      "    output, then the result will be a tuple of arrays.\n"
     ]
    }
   ],
   "source": [
    "np.matmul?\n"
   ]
  },
  {
   "cell_type": "code",
   "execution_count": 60,
   "metadata": {},
   "outputs": [],
   "source": [
    "A=np.array([[2,3,7],[1,1,5],[4,3,1]],dtype=float)\n",
    "m,n=A.shape\n",
    "v=A[1:,0].reshape((m-1,1))\n",
    "w=A[0,1:].reshape((1,n-1))\n",
    "\n",
    "#A[1:,1:]=A[1:,1:]-v@w/A[0,0]\n",
    "#A[1:,0]=A[1:,0]*0\n"
   ]
  },
  {
   "cell_type": "code",
   "execution_count": 61,
   "metadata": {},
   "outputs": [],
   "source": [
    "A[1:,1:]=A[1:,1:]-v@w/A[0,0]\n",
    "\n",
    "\n"
   ]
  },
  {
   "cell_type": "code",
   "execution_count": 59,
   "metadata": {},
   "outputs": [
    {
     "data": {
      "text/plain": [
       "array([[  2,   3,   7],\n",
       "       [  1,   0,   1],\n",
       "       [  4,  -3, -13]])"
      ]
     },
     "execution_count": 59,
     "metadata": {},
     "output_type": "execute_result"
    }
   ],
   "source": [
    "A[1:,1:]=b.copy()\n",
    "A"
   ]
  },
  {
   "cell_type": "code",
   "execution_count": 62,
   "metadata": {},
   "outputs": [
    {
     "data": {
      "text/plain": [
       "array([[  2. ,   3. ,   7. ],\n",
       "       [  1. ,  -0.5,   1.5],\n",
       "       [  4. ,  -3. , -13. ]])"
      ]
     },
     "execution_count": 62,
     "metadata": {},
     "output_type": "execute_result"
    }
   ],
   "source": [
    "A"
   ]
  },
  {
   "cell_type": "code",
   "execution_count": 65,
   "metadata": {},
   "outputs": [
    {
     "name": "stdout",
     "output_type": "stream",
     "text": [
      "3\n"
     ]
    }
   ],
   "source": [
    "for fuck in range(4):\n",
    "    if fuck==3:\n",
    "        break\n",
    "\n",
    "print(fuck)"
   ]
  },
  {
   "cell_type": "code",
   "execution_count": 24,
   "metadata": {},
   "outputs": [
    {
     "name": "stdout",
     "output_type": "stream",
     "text": [
      "[0.25 0.25 0.25] [[-0.1875 -0.1875 -0.1875]]\n",
      "[0.21052632 0.21052632 0.21052632] [[0.02493075 0.02493075 0.02493075]]\n",
      "[0.21590909 0.21590909 0.21590909] [[-0.00348657 -0.00348657 -0.00348657]]\n",
      "[0.21515892 0.21515892 0.21515892] [[0.00048422 0.00048422 0.00048422]]\n",
      "[0.21526316 0.21526316 0.21526316] [[-6.73130194e-05 -6.73130194e-05 -6.73130194e-05]]\n",
      "[0.21524867 0.21524867 0.21524867] [[9.35623831e-06 9.35623831e-06 9.35623831e-06]]\n",
      "[0.21525068 0.21525068 0.21525068] [[-1.30050374e-06 -1.30050374e-06 -1.30050374e-06]]\n"
     ]
    }
   ],
   "source": [
    "import numpy as np \n",
    "x=np.array([0,0,0])\n",
    "p=lambda x: np.array([[1-2*x[0]-x[1]-x[2]-3*x[0]*x[0],1-2*x[1]-x[0]-x[2]-3*x[1]*x[1],1-2*x[2]-x[1]-x[0]-3*x[2]*x[2]]]).T\n",
    "while np.sum(p(x)*p(x))>1e-10:\n",
    "    \n",
    "    J=np.array([[-2-3*x[0],-1,-1],[-1,-2-3*x[1],-1],[-1,-1,-2-3*x[2]]])\n",
    "    #print(\"Printing J\",J)\n",
    "    x=x-(np.linalg.inv(J)@p(x)).T[0]\n",
    "    print(x,p(x).T)"
   ]
  },
  {
   "cell_type": "code",
   "execution_count": 25,
   "metadata": {},
   "outputs": [
    {
     "data": {
      "text/plain": [
       "array([[-1.30050374e-06],\n",
       "       [-1.30050374e-06],\n",
       "       [-1.30050374e-06]])"
      ]
     },
     "execution_count": 25,
     "metadata": {},
     "output_type": "execute_result"
    }
   ],
   "source": [
    "p(x)"
   ]
  },
  {
   "cell_type": "code",
   "execution_count": 13,
   "metadata": {},
   "outputs": [
    {
     "data": {
      "text/plain": [
       "array([[-0.25],\n",
       "       [-0.25],\n",
       "       [-0.25]])"
      ]
     },
     "execution_count": 13,
     "metadata": {},
     "output_type": "execute_result"
    }
   ],
   "source": [
    "np.linalg.inv(J)@p(x)"
   ]
  },
  {
   "cell_type": "code",
   "execution_count": 45,
   "metadata": {},
   "outputs": [],
   "source": [
    "import sympy as sm \n",
    "x,y,z=sm.symbols('x,y,z')"
   ]
  },
  {
   "cell_type": "code",
   "execution_count": 36,
   "metadata": {},
   "outputs": [
    {
     "data": {
      "text/plain": [
       "[]"
      ]
     },
     "execution_count": 36,
     "metadata": {},
     "output_type": "execute_result"
    }
   ],
   "source": [
    "sm.solve( x**2-x+1,x)"
   ]
  },
  {
   "cell_type": "code",
   "execution_count": 37,
   "metadata": {},
   "outputs": [
    {
     "data": {
      "text/plain": [
       "[LambertW(1)]"
      ]
     },
     "execution_count": 37,
     "metadata": {},
     "output_type": "execute_result"
    }
   ],
   "source": [
    "sm.solve(x*sm.exp(x)-1,x)"
   ]
  },
  {
   "cell_type": "code",
   "execution_count": 38,
   "metadata": {},
   "outputs": [
    {
     "data": {
      "text/latex": [
       "$\\displaystyle 0.824132312302522$"
      ],
      "text/plain": [
       "0.824132312302522"
      ]
     },
     "execution_count": 38,
     "metadata": {},
     "output_type": "execute_result"
    }
   ],
   "source": [
    "sm.nsolve(-x**2+sm.cos(x),x,0)"
   ]
  },
  {
   "cell_type": "code",
   "execution_count": 39,
   "metadata": {},
   "outputs": [
    {
     "data": {
      "text/plain": [
       "[-pi/4]"
      ]
     },
     "execution_count": 39,
     "metadata": {},
     "output_type": "execute_result"
    }
   ],
   "source": [
    "sm.solve(sm.cos(x)+sm.sin(x),x)"
   ]
  },
  {
   "cell_type": "code",
   "execution_count": 21,
   "metadata": {},
   "outputs": [
    {
     "data": {
      "text/plain": [
       "(3, 1)"
      ]
     },
     "execution_count": 21,
     "metadata": {},
     "output_type": "execute_result"
    }
   ],
   "source": [
    "x=np.zeros(3)\n",
    "(np.linalg.inv(J)@p(x)).shape"
   ]
  },
  {
   "cell_type": "code",
   "execution_count": 40,
   "metadata": {},
   "outputs": [
    {
     "name": "stdout",
     "output_type": "stream",
     "text": [
      "[0.5 1. ] [0.25 0.25 0.25]\n",
      "[0.5   0.875] [0.015625 0.015625 0.015625]\n",
      "[0.5        0.86607143] [7.97193878e-05 7.97193878e-05 7.97193878e-05]\n",
      "[0.5        0.86602541] [2.11816853e-09 2.11816853e-09 2.11816853e-09]\n"
     ]
    }
   ],
   "source": [
    "x=np.array([0.5,0.5])\n",
    "q=lambda x: np.array([[x[0]**2+x[1]**2-1,(x[0]-1)**2+x[1]**2-1,(x[0]-.5)**2+x[1]**2-0.75]]).T\n",
    "while np.sum(q(x)*q(x))>1e-10:\n",
    "    J=np.array([[2*x[0],2*x[1]],[2*x[0]-2,2*x[1]],[2*x[0]-1,2*x[1]]])\n",
    "    x=x-(np.linalg.inv(J.T@J)@J.T@q(x)).T[0]\n",
    "    print(x,q(x).T[0])"
   ]
  },
  {
   "cell_type": "code",
   "execution_count": 54,
   "metadata": {},
   "outputs": [
    {
     "data": {
      "text/plain": [
       "[(0.5-0.8660254037844386j), (0.5+0.8660254037844386j)]"
      ]
     },
     "execution_count": 54,
     "metadata": {},
     "output_type": "execute_result"
    }
   ],
   "source": [
    "\n",
    "[complex(sm.CRootOf(x**2-x+1,i)) for i in range(2)]"
   ]
  },
  {
   "cell_type": "code",
   "execution_count": null,
   "metadata": {},
   "outputs": [],
   "source": []
  }
 ],
 "metadata": {
  "kernelspec": {
   "display_name": "Python 3",
   "language": "python",
   "name": "python3"
  },
  "language_info": {
   "codemirror_mode": {
    "name": "ipython",
    "version": 3
   },
   "file_extension": ".py",
   "mimetype": "text/x-python",
   "name": "python",
   "nbconvert_exporter": "python",
   "pygments_lexer": "ipython3",
   "version": "3.11.2"
  }
 },
 "nbformat": 4,
 "nbformat_minor": 2
}
