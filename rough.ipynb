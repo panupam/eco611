{
 "cells": [
  {
   "cell_type": "code",
   "execution_count": 2,
   "metadata": {},
   "outputs": [],
   "source": [
    "import numpy as np  \n",
    "a=np.arange(5)"
   ]
  },
  {
   "cell_type": "code",
   "execution_count": 3,
   "metadata": {},
   "outputs": [
    {
     "name": "stdout",
     "output_type": "stream",
     "text": [
      "Help on function argmax in module numpy:\n",
      "\n",
      "argmax(a, axis=None, out=None, *, keepdims=<no value>)\n",
      "    Returns the indices of the maximum values along an axis.\n",
      "    \n",
      "    Parameters\n",
      "    ----------\n",
      "    a : array_like\n",
      "        Input array.\n",
      "    axis : int, optional\n",
      "        By default, the index is into the flattened array, otherwise\n",
      "        along the specified axis.\n",
      "    out : array, optional\n",
      "        If provided, the result will be inserted into this array. It should\n",
      "        be of the appropriate shape and dtype.\n",
      "    keepdims : bool, optional\n",
      "        If this is set to True, the axes which are reduced are left\n",
      "        in the result as dimensions with size one. With this option,\n",
      "        the result will broadcast correctly against the array.\n",
      "    \n",
      "        .. versionadded:: 1.22.0\n",
      "    \n",
      "    Returns\n",
      "    -------\n",
      "    index_array : ndarray of ints\n",
      "        Array of indices into the array. It has the same shape as `a.shape`\n",
      "        with the dimension along `axis` removed. If `keepdims` is set to True,\n",
      "        then the size of `axis` will be 1 with the resulting array having same\n",
      "        shape as `a.shape`.\n",
      "    \n",
      "    See Also\n",
      "    --------\n",
      "    ndarray.argmax, argmin\n",
      "    amax : The maximum value along a given axis.\n",
      "    unravel_index : Convert a flat index into an index tuple.\n",
      "    take_along_axis : Apply ``np.expand_dims(index_array, axis)``\n",
      "                      from argmax to an array as if by calling max.\n",
      "    \n",
      "    Notes\n",
      "    -----\n",
      "    In case of multiple occurrences of the maximum values, the indices\n",
      "    corresponding to the first occurrence are returned.\n",
      "    \n",
      "    Examples\n",
      "    --------\n",
      "    >>> a = np.arange(6).reshape(2,3) + 10\n",
      "    >>> a\n",
      "    array([[10, 11, 12],\n",
      "           [13, 14, 15]])\n",
      "    >>> np.argmax(a)\n",
      "    5\n",
      "    >>> np.argmax(a, axis=0)\n",
      "    array([1, 1, 1])\n",
      "    >>> np.argmax(a, axis=1)\n",
      "    array([2, 2])\n",
      "    \n",
      "    Indexes of the maximal elements of a N-dimensional array:\n",
      "    \n",
      "    >>> ind = np.unravel_index(np.argmax(a, axis=None), a.shape)\n",
      "    >>> ind\n",
      "    (1, 2)\n",
      "    >>> a[ind]\n",
      "    15\n",
      "    \n",
      "    >>> b = np.arange(6)\n",
      "    >>> b[1] = 5\n",
      "    >>> b\n",
      "    array([0, 5, 2, 3, 4, 5])\n",
      "    >>> np.argmax(b)  # Only the first occurrence is returned.\n",
      "    1\n",
      "    \n",
      "    >>> x = np.array([[4,2,3], [1,0,3]])\n",
      "    >>> index_array = np.argmax(x, axis=-1)\n",
      "    >>> # Same as np.amax(x, axis=-1, keepdims=True)\n",
      "    >>> np.take_along_axis(x, np.expand_dims(index_array, axis=-1), axis=-1)\n",
      "    array([[4],\n",
      "           [3]])\n",
      "    >>> # Same as np.amax(x, axis=-1)\n",
      "    >>> np.take_along_axis(x, np.expand_dims(index_array, axis=-1), axis=-1).squeeze(axis=-1)\n",
      "    array([4, 3])\n",
      "    \n",
      "    Setting `keepdims` to `True`,\n",
      "    \n",
      "    >>> x = np.arange(24).reshape((2, 3, 4))\n",
      "    >>> res = np.argmax(x, axis=1, keepdims=True)\n",
      "    >>> res.shape\n",
      "    (2, 1, 4)\n",
      "\n"
     ]
    }
   ],
   "source": [
    "help(np.argmax)"
   ]
  },
  {
   "cell_type": "code",
   "execution_count": 4,
   "metadata": {},
   "outputs": [
    {
     "ename": "ValueError",
     "evalue": "operands could not be broadcast together with shapes (10,) (3,) ",
     "output_type": "error",
     "traceback": [
      "\u001b[0;31m---------------------------------------------------------------------------\u001b[0m",
      "\u001b[0;31mValueError\u001b[0m                                Traceback (most recent call last)",
      "Cell \u001b[0;32mIn [4], line 5\u001b[0m\n\u001b[1;32m      3\u001b[0m i\u001b[38;5;241m=\u001b[39m\u001b[38;5;241m2\u001b[39m\n\u001b[1;32m      4\u001b[0m \u001b[38;5;28msum\u001b[39m(m[:(i\u001b[38;5;241m+\u001b[39m\u001b[38;5;241m1\u001b[39m)]\u001b[38;5;241m*\u001b[39mn[i::\u001b[38;5;241m-\u001b[39m\u001b[38;5;241m1\u001b[39m])\n\u001b[0;32m----> 5\u001b[0m \u001b[43mm\u001b[49m\u001b[43m[\u001b[49m\u001b[43m(\u001b[49m\u001b[38;5;28;43mmax\u001b[39;49m\u001b[43m(\u001b[49m\u001b[43mi\u001b[49m\u001b[38;5;241;43m-\u001b[39;49m\u001b[43mm\u001b[49m\u001b[38;5;241;43m.\u001b[39;49m\u001b[43msize\u001b[49m\u001b[43m,\u001b[49m\u001b[38;5;241;43m0\u001b[39;49m\u001b[43m)\u001b[49m\u001b[43m)\u001b[49m\u001b[43m:\u001b[49m\u001b[43m]\u001b[49m\u001b[38;5;241;43m*\u001b[39;49m\u001b[43mn\u001b[49m\u001b[43m[\u001b[49m\u001b[43mi\u001b[49m\u001b[38;5;241;43m-\u001b[39;49m\u001b[43m(\u001b[49m\u001b[38;5;28;43mmax\u001b[39;49m\u001b[43m(\u001b[49m\u001b[43mi\u001b[49m\u001b[38;5;241;43m-\u001b[39;49m\u001b[43mm\u001b[49m\u001b[38;5;241;43m.\u001b[39;49m\u001b[43msize\u001b[49m\u001b[43m,\u001b[49m\u001b[38;5;241;43m0\u001b[39;49m\u001b[43m)\u001b[49m\u001b[43m)\u001b[49m\u001b[43m:\u001b[49m\u001b[43m:\u001b[49m\u001b[38;5;241;43m-\u001b[39;49m\u001b[38;5;241;43m1\u001b[39;49m\u001b[43m]\u001b[49m\n",
      "\u001b[0;31mValueError\u001b[0m: operands could not be broadcast together with shapes (10,) (3,) "
     ]
    }
   ],
   "source": [
    "import numpy as np\n",
    "m,n=np.ones(10),np.ones(10)\n",
    "i=2\n",
    "sum(m[:(i+1)]*n[i::-1])\n",
    "m[(max(i-m.size,0)):]*n[i-(max(i-m.size,0))::-1]"
   ]
  },
  {
   "cell_type": "code",
   "execution_count": null,
   "metadata": {},
   "outputs": [],
   "source": [
    "m=np.array(range(5))"
   ]
  },
  {
   "cell_type": "code",
   "execution_count": null,
   "metadata": {},
   "outputs": [
    {
     "data": {
      "text/plain": [
       "array([0, 1])"
      ]
     },
     "execution_count": 10,
     "metadata": {},
     "output_type": "execute_result"
    }
   ],
   "source": [
    "np.delete(np.delete(m,(2,3)),2)"
   ]
  },
  {
   "cell_type": "code",
   "execution_count": null,
   "metadata": {},
   "outputs": [
    {
     "data": {
      "text/plain": [
       "array([0, 1, 2, 3, 4])"
      ]
     },
     "execution_count": 11,
     "metadata": {},
     "output_type": "execute_result"
    }
   ],
   "source": [
    "m"
   ]
  },
  {
   "cell_type": "code",
   "execution_count": null,
   "metadata": {},
   "outputs": [
    {
     "data": {
      "text/plain": [
       "[]"
      ]
     },
     "execution_count": 12,
     "metadata": {},
     "output_type": "execute_result"
    },
    {
     "data": {
      "image/png": "[encoded data removed]",
      "text/plain": [
       "<Figure size 640x480 with 1 Axes>"
      ]
     },
     "metadata": {},
     "output_type": "display_data"
    }
   ],
   "source": [
    "import numpy as np\n",
    "import numpy.random as random \n",
    "import matplotlib.pyplot as plt\n",
    "\n",
    "a=random.randint(1,11,1000)\n",
    "b=np.array([])\n",
    "for i in range(a.size):\n",
    "    if a[i]<=1:\n",
    "        b=np.append(b,1)\n",
    "    elif a[i]<=3:\n",
    "        b=np.append(b,2)\n",
    "    elif a[i]<=6:\n",
    "        b=np.append(b,3)\n",
    "    else:\n",
    "        b=np.append(b,4)\n",
    "        \n",
    "freq=np.array([])\n",
    "for i in range(1,5):\n",
    "    freq=np.append(freq,np.sum(b==i))\n",
    "\n",
    "plt.bar(range(1,5),freq/1000)\n",
    "plt.plot()\n",
    "\n"
   ]
  },
  {
   "cell_type": "code",
   "execution_count": null,
   "metadata": {},
   "outputs": [
    {
     "data": {
      "text/plain": [
       "96"
      ]
     },
     "execution_count": 4,
     "metadata": {},
     "output_type": "execute_result"
    }
   ],
   "source": [
    "np.sum(b==1)"
   ]
  },
  {
   "cell_type": "code",
   "execution_count": null,
   "metadata": {},
   "outputs": [
    {
     "data": {
      "text/plain": [
       "0"
      ]
     },
     "execution_count": 8,
     "metadata": {},
     "output_type": "execute_result"
    }
   ],
   "source": [
    "c=np.array([1,2,3,1])\n",
    "np.sum(c==4)"
   ]
  },
  {
   "cell_type": "code",
   "execution_count": null,
   "metadata": {},
   "outputs": [
    {
     "name": "stderr",
     "output_type": "stream",
     "text": [
      "/tmp/ipykernel_10508/1974158209.py:4: RuntimeWarning: overflow encountered in power\n",
      "  F1= lambda n,x,c : (x*(n+1)+(-x)**(n+1))/(2*n)-c\n",
      "/tmp/ipykernel_10508/1974158209.py:15: RuntimeWarning: invalid value encountered in divide\n",
      "  x=x-F1(n,x,c)/f(n,x)\n"
     ]
    }
   ],
   "source": [
    "import numpy as np \n",
    "import matplotlib.pyplot as plt\n",
    "\n",
    "F1= lambda n,x,c : (x*(n+1)+(-x)**(n+1))/(2*n)-c\n",
    "F2=lambda n,x,c: 0.5-c+(x*(n+1)-(x)**(n+1))/(2*n)\n",
    "f=lambda n,x: (n+1)*(1-(np.abs(x))**n)/(2*n)\n",
    "\n",
    "n=3\n",
    "u=np.random.rand(1)\n",
    "\n",
    "c=u\n",
    "if c>0.5:\n",
    "    x=0.1\n",
    "    while np.abs(F1(n,x,c))>1e-6:\n",
    "        x=x-F1(n,x,c)/f(n,x)\n",
    "else:\n",
    "    x=-0.1\n",
    "    while np.abs(F2(n,x,c))>1e-6:\n",
    "        x=x-F2(n,x,c)/f(n,x)\n",
    "\n",
    "\n",
    "\n",
    "z=np.arange(-1.0,1.0,0.01)\n",
    "\n"
   ]
  },
  {
   "cell_type": "code",
   "execution_count": null,
   "metadata": {},
   "outputs": [
    {
     "name": "stderr",
     "output_type": "stream",
     "text": [
      "/tmp/ipykernel_10508/4253154219.py:4: RuntimeWarning: overflow encountered in scalar power\n",
      "  F1= lambda n,x,c : (x*(n+1)+(-x)**(n+1))/(2*n)-c\n",
      "/tmp/ipykernel_10508/4253154219.py:17: RuntimeWarning: invalid value encountered in scalar divide\n",
      "  x=x-F1(n,x,c)/f(n,x)\n"
     ]
    },
    {
     "ename": "KeyboardInterrupt",
     "evalue": "",
     "output_type": "error",
     "traceback": [
      "\u001b[0;31m---------------------------------------------------------------------------\u001b[0m",
      "\u001b[0;31mKeyboardInterrupt\u001b[0m                         Traceback (most recent call last)",
      "Cell \u001b[0;32mIn [7], line 16\u001b[0m\n\u001b[1;32m     14\u001b[0m \u001b[38;5;28;01mif\u001b[39;00m c\u001b[38;5;241m>\u001b[39m\u001b[38;5;241m0.5\u001b[39m:\n\u001b[1;32m     15\u001b[0m     x\u001b[38;5;241m=\u001b[39m\u001b[38;5;241m0.5\u001b[39m\n\u001b[0;32m---> 16\u001b[0m     \u001b[38;5;28;01mwhile\u001b[39;00m \u001b[43mnp\u001b[49m\u001b[38;5;241;43m.\u001b[39;49m\u001b[43mabs\u001b[49m\u001b[43m(\u001b[49m\u001b[43mF1\u001b[49m\u001b[43m(\u001b[49m\u001b[43mn\u001b[49m\u001b[43m,\u001b[49m\u001b[43mx\u001b[49m\u001b[43m,\u001b[49m\u001b[43mc\u001b[49m\u001b[43m)\u001b[49m\u001b[43m)\u001b[49m\u001b[38;5;241m>\u001b[39m\u001b[38;5;241m1e-6\u001b[39m:\n\u001b[1;32m     17\u001b[0m         x\u001b[38;5;241m=\u001b[39mx\u001b[38;5;241m-\u001b[39mF1(n,x,c)\u001b[38;5;241m/\u001b[39mf(n,x)\n\u001b[1;32m     18\u001b[0m \u001b[38;5;28;01melse\u001b[39;00m:\n",
      "\u001b[0;31mKeyboardInterrupt\u001b[0m: "
     ]
    }
   ],
   "source": [
    "import numpy as np \n",
    "import matplotlib.pyplot as plt\n",
    "\n",
    "F1= lambda n,x,c : (x*(n+1)+(-x)**(n+1))/(2*n)-c\n",
    "F2=lambda n,x,c: 0.5-c+(x*(n+1)-(x)**(n+1))/(2*n)\n",
    "f=lambda n,x: (n+1)*(1-np.abs(x)**n)/(2*n)\n",
    "\n",
    "n=3\n",
    "u=np.random.rand(10)\n",
    "X=np.zeros(10)\n",
    "for i in range(10):\n",
    "    x=0\n",
    "    c=u[i]\n",
    "    if c>0.5:\n",
    "        x=0.5\n",
    "        while np.abs(F1(n,x,c))>1e-6:\n",
    "            x=x-F1(n,x,c)/f(n,x)\n",
    "    else:\n",
    "        x=-0.5\n",
    "        while np.abs(F2(n,x,c))>1e-6:\n",
    "            x=x-F2(n,x,c)/f(n,x)\n",
    "\n",
    "    X[i]=x\n",
    "\n",
    "z=np.arange(-1.0,1.0,0.01)\n",
    "plt.hist(X,30,density=True)\n",
    "plt.plot(z,f(z))\n",
    "plt.show()"
   ]
  },
  {
   "cell_type": "code",
   "execution_count": null,
   "metadata": {},
   "outputs": [
    {
     "name": "stdout",
     "output_type": "stream",
     "text": [
      "Root & val of cos(x)-x^3 is 0.8654740789787362 -1.3802309595245532e-07\n"
     ]
    }
   ],
   "source": [
    "import numpy as np \n",
    "import matplotlib.pyplot as plt\n",
    "x=float(input(\"Input starting point for cos(x)-x^3\"))\n",
    "y=[]\n",
    "\n",
    "f=lambda x: np.cos(x)-x**3 \n",
    "f1=lambda x: -np.sin(x)-3*x**2\n",
    "while (np.abs(f(x))>1e-6):\n",
    "    y.append((x,f(x)))\n",
    "    x=x-f(x)/f1(x)\n",
    "    \n",
    "y.append((x,f(x)))\n",
    "print(\"Root & val of cos(x)-x^3 is\",x ,f(x) )\n"
   ]
  },
  {
   "cell_type": "code",
   "execution_count": null,
   "metadata": {},
   "outputs": [
    {
     "ename": "AttributeError",
     "evalue": "'list' object has no attribute 'add_patch'",
     "output_type": "error",
     "traceback": [
      "\u001b[0;31m---------------------------------------------------------------------------\u001b[0m",
      "\u001b[0;31mAttributeError\u001b[0m                            Traceback (most recent call last)",
      "Cell \u001b[0;32mIn [33], line 6\u001b[0m\n\u001b[1;32m      4\u001b[0m ax\u001b[38;5;241m=\u001b[39mplt\u001b[38;5;241m.\u001b[39mplot(np\u001b[38;5;241m.\u001b[39marange(\u001b[38;5;241m0.0\u001b[39m,\u001b[38;5;241m2\u001b[39m,\u001b[38;5;241m0.1\u001b[39m),f(np\u001b[38;5;241m.\u001b[39marange(\u001b[38;5;241m0.0\u001b[39m,\u001b[38;5;241m2\u001b[39m,\u001b[38;5;241m0.1\u001b[39m)))\n\u001b[1;32m      5\u001b[0m patch \u001b[38;5;241m=\u001b[39m patches\u001b[38;5;241m.\u001b[39mPathPatch(p, facecolor\u001b[38;5;241m=\u001b[39m\u001b[38;5;124m'\u001b[39m\u001b[38;5;124morange\u001b[39m\u001b[38;5;124m'\u001b[39m, lw\u001b[38;5;241m=\u001b[39m\u001b[38;5;241m2\u001b[39m)\n\u001b[0;32m----> 6\u001b[0m \u001b[43max\u001b[49m\u001b[38;5;241;43m.\u001b[39;49m\u001b[43madd_patch\u001b[49m(patch)\n\u001b[1;32m      7\u001b[0m plt\u001b[38;5;241m.\u001b[39mshow()\n",
      "\u001b[0;31mAttributeError\u001b[0m: 'list' object has no attribute 'add_patch'"
     ]
    },
    {
     "data": {
      "image/png": "[encoded data removed]",
      "text/plain": [
       "<Figure size 640x480 with 1 Axes>"
      ]
     },
     "metadata": {},
     "output_type": "display_data"
    }
   ],
   "source": [
    "import matplotlib.path as path\n",
    "import matplotlib.patches as patches\n",
    "p=path.Path(z)\n",
    "ax=plt.plot(np.arange(0.0,2,0.1),f(np.arange(0.0,2,0.1)))\n",
    "patch = patches.PathPatch(p, facecolor='orange', lw=2)\n",
    "ax.add_patch(patch)\n",
    "plt.show()"
   ]
  },
  {
   "cell_type": "code",
   "execution_count": null,
   "metadata": {},
   "outputs": [
    {
     "name": "stdout",
     "output_type": "stream",
     "text": [
      "[-14.95990891   3.00103233] [nan nan] 1\n"
     ]
    },
    {
     "name": "stderr",
     "output_type": "stream",
     "text": [
      "/tmp/ipykernel_4622/2192243635.py:5: RuntimeWarning: invalid value encountered in scalar power\n",
      "  f=lambda x: np.array([x[0]**0.2+x[1]**0.2-1,x[0]**0.1+x[1]**0.4-2])\n"
     ]
    }
   ],
   "source": [
    "import numpy as np \n",
    "\n",
    "x=np.array([3,3])\n",
    "\n",
    "f=lambda x: np.array([x[0]**0.2+x[1]**0.2-1,x[0]**0.1+x[1]**0.4-2])\n",
    "J=lambda x: np.array([[0.2*x[0]**(-0.8),0.2*x[1]**(-0.8)],[0.1*x[0]**(-0.9),0.4*x[1]**(-0.6)]])\n",
    "count=0\n",
    "while np.linalg.norm(f(x))>1e-6:\n",
    "    x=x-np.linalg.inv(J(x))@f(x)\n",
    "    count+=1\n",
    "\n",
    "print(x,f(x),count)\n"
   ]
  },
  {
   "cell_type": "code",
   "execution_count": null,
   "metadata": {},
   "outputs": [
    {
     "data": {
      "text/plain": [
       "array([ 1.79599089e+01, -1.03233499e-03])"
      ]
     },
     "execution_count": 20,
     "metadata": {},
     "output_type": "execute_result"
    }
   ],
   "source": [
    "x=np.array([3,3])\n",
    "np.linalg.inv(J(x))@f(x)"
   ]
  },
  {
   "cell_type": "code",
   "execution_count": null,
   "metadata": {},
   "outputs": [
    {
     "ename": "NameError",
     "evalue": "name 'J' is not defined",
     "output_type": "error",
     "traceback": [
      "\u001b[0;31m---------------------------------------------------------------------------\u001b[0m",
      "\u001b[0;31mNameError\u001b[0m                                 Traceback (most recent call last)",
      "Cell \u001b[0;32mIn [1], line 1\u001b[0m\n\u001b[0;32m----> 1\u001b[0m \u001b[43mJ\u001b[49m(x)\n",
      "\u001b[0;31mNameError\u001b[0m: name 'J' is not defined"
     ]
    }
   ],
   "source": [
    "J(x)"
   ]
  }
 ],
 "metadata": {
  "kernelspec": {
   "display_name": "Python 3",
   "language": "python",
   "name": "python3"
  },
  "language_info": {
   "codemirror_mode": {
    "name": "ipython",
    "version": 3
   },
   "file_extension": ".py",
   "mimetype": "text/x-python",
   "name": "python",
   "nbconvert_exporter": "python",
   "pygments_lexer": "ipython3",
   "version": "3.11.2"
  }
 },
 "nbformat": 4,
 "nbformat_minor": 2
}
