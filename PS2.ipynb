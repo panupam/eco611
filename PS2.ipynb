{
 "cells": [
  {
   "cell_type": "code",
   "execution_count": 1,
   "metadata": {},
   "outputs": [
    {
     "data": {
      "text/html": [
       "<div>\n",
       "<style scoped>\n",
       "    .dataframe tbody tr th:only-of-type {\n",
       "        vertical-align: middle;\n",
       "    }\n",
       "\n",
       "    .dataframe tbody tr th {\n",
       "        vertical-align: top;\n",
       "    }\n",
       "\n",
       "    .dataframe thead th {\n",
       "        text-align: right;\n",
       "    }\n",
       "</style>\n",
       "<table border=\"1\" class=\"dataframe\">\n",
       "  <thead>\n",
       "    <tr style=\"text-align: right;\">\n",
       "      <th></th>\n",
       "      <th>Name</th>\n",
       "      <th>Mark 1</th>\n",
       "      <th>Mark 2</th>\n",
       "    </tr>\n",
       "  </thead>\n",
       "  <tbody>\n",
       "    <tr>\n",
       "      <th>0</th>\n",
       "      <td>abc</td>\n",
       "      <td>7</td>\n",
       "      <td>6</td>\n",
       "    </tr>\n",
       "    <tr>\n",
       "      <th>1</th>\n",
       "      <td>def</td>\n",
       "      <td>8</td>\n",
       "      <td>3</td>\n",
       "    </tr>\n",
       "    <tr>\n",
       "      <th>2</th>\n",
       "      <td>ghi</td>\n",
       "      <td>9</td>\n",
       "      <td>8</td>\n",
       "    </tr>\n",
       "  </tbody>\n",
       "</table>\n",
       "</div>"
      ],
      "text/plain": [
       "  Name  Mark 1  Mark 2\n",
       "0  abc       7       6\n",
       "1  def       8       3\n",
       "2  ghi       9       8"
      ]
     },
     "execution_count": 1,
     "metadata": {},
     "output_type": "execute_result"
    }
   ],
   "source": [
    "import pandas as pd\n",
    "Name=[\"abc\", \"def\", \"ghi\"]\n",
    "m1=[7,8,9]\n",
    "m2=[6,3,8]\n",
    "\n",
    "dict={\"Name\": Name, \"Mark 1\": m1, \"Mark 2\":m2}\n",
    "df=pd.DataFrame(dict)\n",
    "df"
   ]
  },
  {
   "cell_type": "code",
   "execution_count": 2,
   "metadata": {},
   "outputs": [],
   "source": [
    "df.to_csv(\"data1.csv\")"
   ]
  },
  {
   "cell_type": "code",
   "execution_count": 64,
   "metadata": {},
   "outputs": [
    {
     "name": "stdout",
     "output_type": "stream",
     "text": [
      "  Name  Mark 1  Mark 2\n",
      "0  def       8       3\n",
      "1  abc       7       6\n",
      "2  ghi       9       8\n"
     ]
    }
   ],
   "source": [
    "mark2_with_index = [(Mark2[i], i) for i in range(len(Mark2))]\n",
    "\n",
    "mark2_with_index.sort()\n",
    "\n",
    "sorted_indices = [index for mark2_value, index in mark2_with_index]\n",
    "\n",
    "sorted_Name = [Name[i] for i in sorted_indices]\n",
    "sorted_Mark1 = [Mark1[i] for i in sorted_indices]\n",
    "sorted_Mark2 = [Mark2[i] for i in sorted_indices]\n",
    "\n",
    "sorted_df = {\"Name\": sorted_Name,\n",
    "    \"Mark 1\": sorted_Mark1,\n",
    "    \"Mark 2\": sorted_Mark2}\n",
    "\n",
    "sorted_df=pd.DataFrame(sorted_df)\n",
    "print(sorted_df)"
   ]
  },
  {
   "cell_type": "code",
   "execution_count": 4,
   "metadata": {},
   "outputs": [
    {
     "name": "stdout",
     "output_type": "stream",
     "text": [
      "['Lowercase alphabets', 4, 'Uppercase alphabets', 6, 'Numbers', 4, 'Other characters', 5]\n"
     ]
    }
   ],
   "source": [
    "string=input(\"enter your sentences:\")\n",
    "lowercase_count = 0\n",
    "uppercase_count = 0\n",
    "number_count = 0\n",
    "other_count = 0\n",
    "    \n",
    "for char in string:\n",
    "    if char.islower():\n",
    "        lowercase_count += 1\n",
    "    elif char.isupper():\n",
    "        uppercase_count += 1\n",
    "    elif char.isdigit():\n",
    "        number_count += 1\n",
    "    else:\n",
    "        other_count += 1\n",
    "    \n",
    "counts = [\"Lowercase alphabets\", lowercase_count, \"Uppercase alphabets\", uppercase_count, \n",
    "          \"Numbers\", number_count,\"Other characters\", other_count]\n",
    "print(counts)\n"
   ]
  },
  {
   "cell_type": "code",
   "execution_count": 27,
   "metadata": {},
   "outputs": [
    {
     "data": {
      "text/plain": [
       "['I', 'love', 'MATHS']"
      ]
     },
     "execution_count": 27,
     "metadata": {},
     "output_type": "execute_result"
    }
   ],
   "source": [
    "#Write a code to print the number of characters in each word of a given string\n",
    "import numpy as np \n",
    "import pandas as pd\n",
    "string=input(\"enter the sentences:\")\n",
    "string=string.split()\n",
    "string"
   ]
  },
  {
   "cell_type": "code",
   "execution_count": 31,
   "metadata": {},
   "outputs": [
    {
     "name": "stdout",
     "output_type": "stream",
     "text": [
      "1\n",
      "4\n",
      "5\n"
     ]
    }
   ],
   "source": [
    "\n",
    "for char in string:\n",
    "    print(len(char))"
   ]
  },
  {
   "cell_type": "code",
   "execution_count": 33,
   "metadata": {},
   "outputs": [
    {
     "name": "stdout",
     "output_type": "stream",
     "text": [
      "The strings are not permutations of each other.\n"
     ]
    }
   ],
   "source": [
    "string1 = input(\"Enter the first string: \")\n",
    "string2 = input(\"Enter the second string: \")\n",
    "\n",
    "if len(string1) != len(string2):\n",
    "    print(\"The strings are not permutations of each other.\")\n",
    "else:\n",
    "    if sorted(string1) == sorted(string2):\n",
    "        print(\"The strings are permutations of each other.\")\n",
    "    else:\n",
    "        print(\"The strings are not permutations of each other.\")"
   ]
  },
  {
   "cell_type": "code",
   "execution_count": 39,
   "metadata": {},
   "outputs": [
    {
     "name": "stdout",
     "output_type": "stream",
     "text": [
      "Common characters are ['d']\n"
     ]
    }
   ],
   "source": [
    "#Write a code to print the longest common substring in two given strings.\n",
    "#For example, if the strings are “conic section” and “carbonic acid”, your\n",
    "#code should print “onic ” with a space at the end.\n",
    "string1 = input(\"Enter the first string: \")\n",
    "string2 = input(\"Enter the second string: \")\n",
    "\n",
    "string1=sorted(string1)\n",
    "string2=sorted(string2)\n",
    "\n",
    "common=[]\n",
    "for char in string1:\n",
    "    if char in string2:\n",
    "        common.append(char)\n",
    "\n",
    "if common:\n",
    "    print(\"Common characters are\", common)\n",
    "else:\n",
    "    print(\"No common character\")"
   ]
  },
  {
   "cell_type": "code",
   "execution_count": 65,
   "metadata": {},
   "outputs": [
    {
     "name": "stdout",
     "output_type": "stream",
     "text": [
      "Nice job\n",
      "Nicely\n"
     ]
    }
   ],
   "source": [
    "string1 = input(\"Enter the first string: \")\n",
    "string2 = input(\"Enter the second string: \")\n",
    "\n",
    "print(string1)\n",
    "print(string2)\n",
    "common_substring = \"\"\n",
    "current_substring = \"\"\n",
    "\n",
    "len1, len2 = len(string1), len(string2)\n",
    "min_len = min(len1, len2)"
   ]
  },
  {
   "cell_type": "code",
   "execution_count": 66,
   "metadata": {},
   "outputs": [
    {
     "name": "stdout",
     "output_type": "stream",
     "text": [
      "The longest common substring is: Nice\n"
     ]
    }
   ],
   "source": [
    "for i in range(min_len):\n",
    "    char1, char2 = string1[i], string2[i]\n",
    "\n",
    "    if char1 == char2:\n",
    "        current_substring += char1\n",
    "    else:\n",
    "        current_substring = \"\"\n",
    "\n",
    "    if len(current_substring) > len(common_substring):\n",
    "        common_substring = current_substring\n",
    "\n",
    "if common_substring:\n",
    "    print(\"The longest common substring is:\", common_substring)\n",
    "else:\n",
    "    print(\"There is no common substring.\")"
   ]
  },
  {
   "cell_type": "code",
   "execution_count": 1,
   "metadata": {},
   "outputs": [
    {
     "name": "stdout",
     "output_type": "stream",
     "text": [
      "1 4 3 1\n"
     ]
    }
   ],
   "source": [
    "a='Hello 123'\n",
    "a\n",
    "c_upper=0\n",
    "c_lower=0\n",
    "c_digit=0\n",
    "c_other=0\n",
    "for i in a:\n",
    "    if i.isupper():\n",
    "        c_upper+=1\n",
    "    elif i.islower():\n",
    "        c_lower+=1\n",
    "    elif i.isdigit():\n",
    "        c_digit+=1\n",
    "    else:\n",
    "        c_other+=1\n",
    "\n",
    "print(c_upper,c_lower,c_digit,c_other)"
   ]
  },
  {
   "cell_type": "code",
   "execution_count": 20,
   "metadata": {},
   "outputs": [
    {
     "data": {
      "text/plain": [
       "False"
      ]
     },
     "execution_count": 20,
     "metadata": {},
     "output_type": "execute_result"
    }
   ],
   "source": [
    "e=\"123  Hello\"\n",
    "b=list(a)\n",
    "c=list(e)\n",
    "b.sort()\n",
    "c.sort()\n",
    "\n",
    "b==c"
   ]
  },
  {
   "cell_type": "code",
   "execution_count": 31,
   "metadata": {},
   "outputs": [],
   "source": [
    "a=\"conic section\"\n",
    "b=\"carbonic acid\""
   ]
  },
  {
   "cell_type": "code",
   "execution_count": 54,
   "metadata": {},
   "outputs": [
    {
     "data": {
      "text/plain": [
       "'onic '"
      ]
     },
     "execution_count": 54,
     "metadata": {},
     "output_type": "execute_result"
    }
   ],
   "source": [
    "a=input(\"enter first string: \")\n",
    "b=input(\"Enter Second String: \")\n",
    "\n",
    "l=len(b)\n",
    "maxl=None\n",
    "j=None\n",
    "while l>0 and maxl== None:\n",
    "    for i in range(len(b)-l+1):\n",
    "        \n",
    "        if b[i:i+l] in a: \n",
    "            maxl=l\n",
    "            j=i\n",
    "            break\n",
    "    \n",
    "    l-=1\n",
    "\n",
    "b[j:j+maxl]"
   ]
  },
  {
   "cell_type": "code",
   "execution_count": 43,
   "metadata": {},
   "outputs": [
    {
     "data": {
      "text/plain": [
       "'onic '"
      ]
     },
     "execution_count": 43,
     "metadata": {},
     "output_type": "execute_result"
    }
   ],
   "source": [
    "b[j:j+maxl+1]"
   ]
  },
  {
   "cell_type": "code",
   "execution_count": 55,
   "metadata": {},
   "outputs": [],
   "source": [
    "import pandas as pd\n",
    "a={\"name\":['abc','def','ghi'],\"Mark 1\":[20,10,30], \"Mark 2\":[11,90,35]}\n",
    "b=pd.DataFrame(a)"
   ]
  },
  {
   "cell_type": "code",
   "execution_count": 65,
   "metadata": {},
   "outputs": [],
   "source": [
    "f=open(\"ab.txt\",'w')\n",
    "for i in b.columns:\n",
    "    s=''\n",
    "    for j in b[i]:\n",
    "\n",
    "        s=s+str(j)+','\n",
    "    \n",
    "    f.write(\"{0}=[{1}]\\n\".format(i,s[:-1]))\n",
    "\n",
    "f.close()"
   ]
  },
  {
   "cell_type": "code",
   "execution_count": 80,
   "metadata": {},
   "outputs": [
    {
     "data": {
      "text/html": [
       "<div>\n",
       "<style scoped>\n",
       "    .dataframe tbody tr th:only-of-type {\n",
       "        vertical-align: middle;\n",
       "    }\n",
       "\n",
       "    .dataframe tbody tr th {\n",
       "        vertical-align: top;\n",
       "    }\n",
       "\n",
       "    .dataframe thead th {\n",
       "        text-align: right;\n",
       "    }\n",
       "</style>\n",
       "<table border=\"1\" class=\"dataframe\">\n",
       "  <thead>\n",
       "    <tr style=\"text-align: right;\">\n",
       "      <th></th>\n",
       "      <th>name</th>\n",
       "      <th>Mark 1</th>\n",
       "      <th>Mark 2</th>\n",
       "    </tr>\n",
       "  </thead>\n",
       "  <tbody>\n",
       "    <tr>\n",
       "      <th>0</th>\n",
       "      <td>abc</td>\n",
       "      <td>20.0</td>\n",
       "      <td>11</td>\n",
       "    </tr>\n",
       "    <tr>\n",
       "      <th>1</th>\n",
       "      <td>def</td>\n",
       "      <td>10.0</td>\n",
       "      <td>90</td>\n",
       "    </tr>\n",
       "    <tr>\n",
       "      <th>2</th>\n",
       "      <td>ghi</td>\n",
       "      <td>30.0</td>\n",
       "      <td>35</td>\n",
       "    </tr>\n",
       "  </tbody>\n",
       "</table>\n",
       "</div>"
      ],
      "text/plain": [
       "  name  Mark 1  Mark 2\n",
       "0  abc    20.0      11\n",
       "1  def    10.0      90\n",
       "2  ghi    30.0      35"
      ]
     },
     "execution_count": 80,
     "metadata": {},
     "output_type": "execute_result"
    }
   ],
   "source": [
    "b.astype({\"Mark 1\":float},copy=True)"
   ]
  }
 ],
 "metadata": {
  "kernelspec": {
   "display_name": "Python 3",
   "language": "python",
   "name": "python3"
  },
  "language_info": {
   "codemirror_mode": {
    "name": "ipython",
    "version": 3
   },
   "file_extension": ".py",
   "mimetype": "text/x-python",
   "name": "python",
   "nbconvert_exporter": "python",
   "pygments_lexer": "ipython3",
   "version": "3.11.2"
  }
 },
 "nbformat": 4,
 "nbformat_minor": 2
}
