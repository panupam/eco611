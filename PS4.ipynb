{
 "cells": [
  {
   "cell_type": "code",
   "execution_count": 1,
   "metadata": {},
   "outputs": [
    {
     "ename": "ValueError",
     "evalue": "invalid literal for int() with base 10: ''",
     "output_type": "error",
     "traceback": [
      "\u001b[0;31m---------------------------------------------------------------------------\u001b[0m",
      "\u001b[0;31mValueError\u001b[0m                                Traceback (most recent call last)",
      "Cell \u001b[0;32mIn [1], line 2\u001b[0m\n\u001b[1;32m      1\u001b[0m \u001b[38;5;28;01mimport\u001b[39;00m \u001b[38;5;21;01mnumpy\u001b[39;00m \u001b[38;5;28;01mas\u001b[39;00m \u001b[38;5;21;01mnp\u001b[39;00m\n\u001b[0;32m----> 2\u001b[0m n\u001b[38;5;241m=\u001b[39m\u001b[38;5;28;43mint\u001b[39;49m\u001b[43m(\u001b[49m\u001b[38;5;28;43minput\u001b[39;49m\u001b[43m(\u001b[49m\u001b[38;5;124;43m\"\u001b[39;49m\u001b[38;5;124;43menter the number of rows\u001b[39;49m\u001b[38;5;124;43m\"\u001b[39;49m\u001b[43m)\u001b[49m\u001b[43m)\u001b[49m\n\u001b[1;32m      3\u001b[0m m\u001b[38;5;241m=\u001b[39m\u001b[38;5;28mint\u001b[39m(\u001b[38;5;28minput\u001b[39m(\u001b[38;5;124m\"\u001b[39m\u001b[38;5;124menter the number of columns\u001b[39m\u001b[38;5;124m\"\u001b[39m))\n\u001b[1;32m      4\u001b[0m A_input\u001b[38;5;241m=\u001b[39m\u001b[38;5;28minput\u001b[39m(\u001b[38;5;124m\"\u001b[39m\u001b[38;5;124menter the digits of matrix with spaces\u001b[39m\u001b[38;5;124m\"\u001b[39m)\n",
      "\u001b[0;31mValueError\u001b[0m: invalid literal for int() with base 10: ''"
     ]
    }
   ],
   "source": [
    "import numpy as np\n",
    "n=int(input(\"enter the number of rows\"))\n",
    "m=int(input(\"enter the number of columns\"))\n",
    "A_input=input(\"enter the digits of matrix with spaces\")\n",
    "A = np.array(list(map(int, A_input.split()))).reshape(n, m)\n",
    "print(A)\n",
    "b_input=input(\"enter the digits of matrix with spaces\")\n",
    "b = np.array(list(map(int, b_input.split()))).reshape(n, 1)\n",
    "print(b)\n"
   ]
  },
  {
   "cell_type": "code",
   "execution_count": null,
   "metadata": {},
   "outputs": [
    {
     "name": "stdout",
     "output_type": "stream",
     "text": [
      "The system is underdetermined (infinite solutions).\n"
     ]
    }
   ],
   "source": [
    "#Consider the system of linear equations of the form Ax = b. Given the\n",
    "#matrix A (of size m × n) and the vector b (of length n), write a code that\n",
    "#finds whether the system has a unique solution, infinite solutions, or no\n",
    "#solutions. Furthermore, the code must compute the solution if it is unique,\n",
    "#characterize the complete solution if there are infinitely many, and provide\n",
    "#the best fit solution along with the squared error if there are no solutions.\n",
    "\n",
    "import numpy as np\n",
    "\n",
    "def check_solution(A, b):\n",
    "    # Check if the number of equations (rows of A) is less than the number of variables (columns of A)\n",
    "    if A.shape[0] < A.shape[1]:\n",
    "        print(\"The system is underdetermined (infinite solutions).\")\n",
    "        return\n",
    "\n",
    "    # Check if the number of equations is greater than the number of variables\n",
    "    elif A.shape[0] > A.shape[1]:\n",
    "        print(\"The system is overdetermined (no solution).\")\n",
    "        return\n",
    "\n",
    "    # Check if the matrix A is singular (det(A) == 0)\n",
    "    elif np.linalg.det(A) == 0:\n",
    "        print(\"The system is inconsistent (no solution).\")\n",
    "        return\n",
    "\n",
    "    # Perform LU decomposition\n",
    "    P, L, U = np.linalg.lu(A)\n",
    "\n",
    "    # Solve for y in Ly = Pb\n",
    "    y = np.linalg.solve(L, np.dot(P, b))\n",
    "\n",
    "    # Solve for x in Ux = y\n",
    "    x = np.linalg.solve(U, y)\n",
    "\n",
    "    print(\"The system has a unique solution:\", x)\n",
    "\n",
    "check_solution(A,b)"
   ]
  },
  {
   "cell_type": "code",
   "execution_count": null,
   "metadata": {},
   "outputs": [
    {
     "name": "stdout",
     "output_type": "stream",
     "text": [
      "[[4 5 6]\n",
      " [5 0 7]\n",
      " [6 7 8]]\n"
     ]
    }
   ],
   "source": [
    "import numpy as np\n",
    "n=int(input(\"enter the number of rows\"))\n",
    "m=int(input(\"enter the number of columns\"))\n",
    "A_input=input(\"enter the digits of matrix with spaces\")\n",
    "A = np.array(list(map(int, A_input.split()))).reshape(n, m)\n",
    "print(A)"
   ]
  },
  {
   "cell_type": "code",
   "execution_count": null,
   "metadata": {},
   "outputs": [
    {
     "name": "stdout",
     "output_type": "stream",
     "text": [
      "Matrix A is indefinite.\n",
      "x for x^T * A * x > 0: [[-0.51928954]\n",
      " [-0.45697351]\n",
      " [-0.72215897]]\n",
      "y for y^T * A * y < 0: [[ 0.26070731 -0.81386121]\n",
      " [-0.88945543  0.00665228]\n",
      " [ 0.37536747  0.58102124]]\n"
     ]
    }
   ],
   "source": [
    "#Write a code to determine whether a given square symmetric matrix A is\n",
    "#positive (semi)definite, negative (semi)definite, or indefinite.\n",
    "#Furthermore, the code should find an x such that x T Ax = 0 and a y such that y\n",
    "#T Ay ̸= 0 if A is semidefinite; and should find an x such that xT Ax > 0 and a y\n",
    "#such that y T Ay < 0 if A is indefinite.\n",
    "\n",
    "import numpy as np\n",
    "\n",
    "def definite_classification(A):\n",
    "    # Check if A is symmetric\n",
    "    if not np.array_equal(A, A.T):\n",
    "        print(\"Matrix A is not symmetric.\")\n",
    "        return\n",
    "\n",
    "    # Compute the eigenvalues\n",
    "    eigenvalues = np.linalg.eigvals(A)\n",
    "\n",
    "    # Check eigenvalues for definiteness\n",
    "    if np.min(eigenvalues) > 0:\n",
    "        print(\"Matrix A is positive definite.\")\n",
    "    elif np.min(eigenvalues) >= 0:\n",
    "        print(\"Matrix A is positive semidefinite.\")\n",
    "    elif np.max(eigenvalues) < 0:\n",
    "        print(\"Matrix A is negative definite.\")\n",
    "    elif np.max(eigenvalues) <= 0:\n",
    "        print(\"Matrix A is negative semidefinite.\")\n",
    "    else:\n",
    "        print(\"Matrix A is indefinite.\")\n",
    "    \n",
    "    eigenvalues, eigenvectors = np.linalg.eigh(A)\n",
    "    x_positive = eigenvectors[:, eigenvalues > 0]  # Eigenvectors corresponding to positive eigenvalues\n",
    "    y_negative = eigenvectors[:, eigenvalues < 0]  # Eigenvectors corresponding to negative eigenvalues\n",
    "    print(\"x for x^T * A * x > 0:\", x_positive)\n",
    "    print(\"y for y^T * A * y < 0:\", y_negative)\n",
    "\n",
    "definite_classification(A)"
   ]
  },
  {
   "cell_type": "code",
   "execution_count": null,
   "metadata": {},
   "outputs": [],
   "source": [
    "#Gram-Schmidt orthogonalization process.\n",
    "import numpy as np\n",
    "\n",
    "def gram_schmidt(matrix):\n",
    "    orthogonal_columns = []\n",
    "\n",
    "    for i in range(matrix.shape[1]):\n",
    "        column = matrix[:, i]  # Get the current column\n",
    "\n",
    "        # Perform Gram-Schmidt orthogonalization\n",
    "        for j in range(len(orthogonal_columns)):\n",
    "            projection = np.dot(column, orthogonal_columns[j]) / np.dot(orthogonal_columns[j], orthogonal_columns[j])\n",
    "            column = projection * orthogonal_columns[j]\n",
    "\n",
    "        # Check if the resulting column is linearly independent\n",
    "        if not np.isclose(np.linalg.norm(column), 0):\n",
    "            orthogonal_columns.append(column)\n",
    "\n",
    "    return orthogonal_columns"
   ]
  },
  {
   "cell_type": "code",
   "execution_count": null,
   "metadata": {},
   "outputs": [
    {
     "name": "stdout",
     "output_type": "stream",
     "text": [
      "Orthogonal Basis:\n",
      "[1 4 7]\n",
      "[1.18181818 4.72727273 8.27272727]\n",
      "[1.36363636 5.45454545 9.54545455]\n"
     ]
    }
   ],
   "source": [
    "matrix = np.array([[1, 2, 3], [4, 5, 6], [7, 8, 9]])\n",
    "orthogonal_basis = gram_schmidt(matrix)\n",
    "\n",
    "print(\"Orthogonal Basis:\")\n",
    "for column in orthogonal_basis:\n",
    "    print(column)"
   ]
  },
  {
   "cell_type": "code",
   "execution_count": null,
   "metadata": {},
   "outputs": [
    {
     "name": "stdout",
     "output_type": "stream",
     "text": [
      "[[1. 2. 0. 0.]\n",
      " [3. 4. 0. 0.]\n",
      " [0. 0. 5. 6.]\n",
      " [0. 0. 7. 8.]]\n"
     ]
    }
   ],
   "source": [
    "#Consider that you are given a set of vectors a1, a2, . . . , al with ai ∈ R\n",
    "#m, and another set of vectors b1, b2, . . . , bl with bi ∈ R n. Write a code to\n",
    "#construct a matrix A such that Col(A) = span(a1, . . . , an) and Row(A) =\n",
    "#span(b1, b2, . . . , bm). Your code must print “Not possible” if such a matrix\n",
    "#cannot be constructed\n",
    "\n",
    "import numpy as np\n",
    "\n",
    "def construct_matrix(a, b):\n",
    "    m = len(a[0])\n",
    "    n = len(b[0])\n",
    "    l = len(a)\n",
    "\n",
    "    if m > n:\n",
    "        print(\"Not possible\")\n",
    "        return\n",
    "\n",
    "    # Create a zero matrix A with size (m + n) x (m + n)\n",
    "    A = np.zeros((m + n, m + n))\n",
    "\n",
    "    # Fill the top left section of A with the vectors a1, a2, ..., an\n",
    "    for i in range(l):\n",
    "        A[i][:m] = a[i]\n",
    "\n",
    "    # Fill the bottom right section of A with the vectors b1, b2, ..., bm\n",
    "    for i in range(l):\n",
    "        A[i + m][m:] = b[i]\n",
    "\n",
    "    return A\n",
    "\n",
    "a = [[1, 2], [3, 4]]\n",
    "b = [[5, 6], [7, 8]]\n",
    "\n",
    "A = construct_matrix(a, b)\n",
    "print(A)"
   ]
  },
  {
   "cell_type": "code",
   "execution_count": null,
   "metadata": {},
   "outputs": [],
   "source": [
    "import numpy as np\n",
    "\n",
    "def compute_svd(matrix):\n",
    "    U, s, V = np.linalg.svd(matrix)\n",
    "    return U, s, V\n",
    "\n",
    "def extract_columns_svd(A, m):\n",
    "    # Perform SVD decomposition\n",
    "    U, S, V = np.linalg.svd(A)\n",
    "    \n",
    "    # Extract the first m columns of U\n",
    "    U_m = U[:, :m]\n",
    "    \n",
    "    return U_m\n"
   ]
  },
  {
   "cell_type": "code",
   "execution_count": null,
   "metadata": {},
   "outputs": [],
   "source": [
    "import numpy as np\n",
    "\n",
    "def construct_orthonormal_matrix(A):\n",
    "    m, n = A.shape\n",
    "    additional_vectors = []\n",
    "\n",
    "    for i in range(m, n):\n",
    "        vector = A[:, i]\n",
    "        for j in range(i):\n",
    "            projection = np.dot(vector, additional_vectors[j])\n",
    "            vector -= projection * additional_vectors[j]\n",
    "        vector /= np.linalg.norm(vector)\n",
    "        additional_vectors.append(vector)\n",
    "\n",
    "    B = np.zeros((m, m + n - m))\n",
    "    B[:, :m] = A\n",
    "    for i in range(n - m):\n",
    "        B[:, m + i] = additional_vectors[i]\n",
    "    return B\n"
   ]
  },
  {
   "cell_type": "code",
   "execution_count": null,
   "metadata": {},
   "outputs": [
    {
     "name": "stdout",
     "output_type": "stream",
     "text": [
      "[[1. 0.]\n",
      " [0. 1.]\n",
      " [1. 1.]]\n"
     ]
    }
   ],
   "source": [
    "A = np.array([[1, 0], [0, 1], [1, 1]])\n",
    "B = construct_orthonormal_matrix(A)\n",
    "print(B)"
   ]
  },
  {
   "cell_type": "code",
   "execution_count": null,
   "metadata": {},
   "outputs": [
    {
     "data": {
      "text/plain": [
       "array([[2., 1.],\n",
       "       [1., 2.]])"
      ]
     },
     "execution_count": 28,
     "metadata": {},
     "output_type": "execute_result"
    }
   ],
   "source": [
    "np.dot(B.T, A)"
   ]
  },
  {
   "cell_type": "code",
   "execution_count": null,
   "metadata": {},
   "outputs": [
    {
     "name": "stdout",
     "output_type": "stream",
     "text": [
      "Matrix A:\n",
      "[[1 0]\n",
      " [0 1]\n",
      " [0 0]]\n",
      "\n",
      "Matrix B:\n",
      "[[1. 0.]\n",
      " [0. 1.]\n",
      " [0. 0.]]\n"
     ]
    }
   ],
   "source": [
    "#Assume that you are given a matrix A = [a1, a2, . . . , am] where ai ∈ R\n",
    "#n are n-length vectors. Consider m < n, and that A is an orthonormal matrix.\n",
    "#Write a code to construct another (n−m) vectors am+1, am+2, . . . , an such\n",
    "#that the matrix B = [a1, . . . , an] is still an orthonormal matrix\n",
    "import numpy as np\n",
    "\n",
    "def construct_additional_vectors(A):\n",
    "    m, n = A.shape\n",
    "    additional_vectors = []\n",
    "\n",
    "    for i in range(m, n):\n",
    "        vector = np.random.rand(n)  # Generate a random vector\n",
    "        for j in range(i):\n",
    "            projection = np.dot(vector, A[:, j])\n",
    "            vector -= projection * A[:, j]\n",
    "        norm = np.linalg.norm(vector)\n",
    "        if norm > 0:\n",
    "            vector /= norm\n",
    "        additional_vectors.append(vector)\n",
    "\n",
    "    return np.array(additional_vectors).T\n",
    "\n",
    "def construct_orthonormal_matrix(A):\n",
    "    m, n = A.shape\n",
    "\n",
    "    additional_vectors = construct_additional_vectors(A)\n",
    "    B = np.zeros((m, n))\n",
    "\n",
    "    # Fill B with columns from A and additional_vectors\n",
    "    B[:, :m] = A\n",
    "    B[:, m:] = additional_vectors\n",
    "\n",
    "    return B\n",
    "A = np.array([[1, 0], [0, 1], [0, 0]])  # Example of an orthonormal matrix\n",
    "B = construct_orthonormal_matrix(A)\n",
    "print(\"Matrix A:\")\n",
    "print(A)\n",
    "print(\"\\nMatrix B:\")\n",
    "print(B)"
   ]
  },
  {
   "cell_type": "code",
   "execution_count": 2,
   "metadata": {},
   "outputs": [
    {
     "name": "stdout",
     "output_type": "stream",
     "text": [
      "Original Matrix A:\n",
      "[[4 3]\n",
      " [2 1]]\n",
      "\n",
      "Lower Triangular Matrix L:\n",
      "[[1. 0.]\n",
      " [2. 1.]]\n",
      "\n",
      "Upper Triangular Matrix U:\n",
      "[[4. 3.]\n",
      " [0. 1.]]\n",
      "[[4. 3.]\n",
      " [8. 7.]]\n"
     ]
    }
   ],
   "source": [
    "#Write a code to decompose a given matrix into the product of a lower and\n",
    "#upper triangular matrix using recursion.\n",
    "import numpy as np\n",
    "\n",
    "def lu_decomposition_recursive(matrix):\n",
    "    if matrix.shape[0] != matrix.shape[1]:\n",
    "        raise ValueError(\"Input matrix must be square for LU decomposition.\")\n",
    "\n",
    "    n = matrix.shape[0]\n",
    "\n",
    "    if n == 1:\n",
    "        return np.array([[1]]), matrix.copy()\n",
    "\n",
    "    # Split the matrix into four submatrices\n",
    "    half = n // 2\n",
    "    A11 = matrix[:half, :half]\n",
    "    A12 = matrix[:half, half:]\n",
    "    A21 = matrix[half:, :half]\n",
    "    A22 = matrix[half:, half:]\n",
    "\n",
    "    # Recursively decompose the submatrices\n",
    "    L11, U11 = lu_decomposition_recursive(A11)\n",
    "    L22, U22 = lu_decomposition_recursive(A22)\n",
    "\n",
    "    # Compute intermediate matrices\n",
    "    L21 = np.linalg.solve(L11, A21)\n",
    "    U12 = np.linalg.solve(U22, A12)\n",
    "\n",
    "    # Concatenate the matrices to form L and U\n",
    "    L = np.block([[L11, np.zeros((half, half))],\n",
    "                  [L21, L22]])\n",
    "    U = np.block([[U11, U12],\n",
    "                  [np.zeros((half, half)), U22]])\n",
    "\n",
    "    return L, U\n",
    "A = np.array([[4, 3], [2, 1]])\n",
    "L, U = lu_decomposition_recursive(A)\n",
    "\n",
    "print(\"Original Matrix A:\")\n",
    "print(A)\n",
    "print(\"\\nLower Triangular Matrix L:\")\n",
    "print(L)\n",
    "print(\"\\nUpper Triangular Matrix U:\")\n",
    "print(U)\n",
    "\n",
    "print(L@U)"
   ]
  },
  {
   "cell_type": "code",
   "execution_count": null,
   "metadata": {},
   "outputs": [
    {
     "name": "stdout",
     "output_type": "stream",
     "text": [
      "Hello\n"
     ]
    },
    {
     "ename": "",
     "evalue": "",
     "output_type": "error",
     "traceback": [
      "\u001b[1;31mThe Kernel crashed while executing code in the current cell or a previous cell. \n",
      "\u001b[1;31mPlease review the code in the cell(s) to identify a possible cause of the failure. \n",
      "\u001b[1;31mClick <a href='https://aka.ms/vscodeJupyterKernelCrash'>here</a> for more info. \n",
      "\u001b[1;31mView Jupyter <a href='command:jupyter.viewOutput'>log</a> for further details."
     ]
    }
   ],
   "source": [
    "import sys\n",
    "if True:\n",
    "    sys.exit()\n",
    "    print(\"Hello\")"
   ]
  }
 ],
 "metadata": {
  "kernelspec": {
   "display_name": "Python 3",
   "language": "python",
   "name": "python3"
  },
  "language_info": {
   "codemirror_mode": {
    "name": "ipython",
    "version": 3
   },
   "file_extension": ".py",
   "mimetype": "text/x-python",
   "name": "python",
   "nbconvert_exporter": "python",
   "pygments_lexer": "ipython3",
   "version": "3.11.2"
  }
 },
 "nbformat": 4,
 "nbformat_minor": 2
}
